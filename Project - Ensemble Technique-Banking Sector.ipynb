{
 "cells": [
  {
   "cell_type": "markdown",
   "metadata": {},
   "source": [
    "# Project - Ensemble Technique\n",
    "\n",
    "Obective: The classification goal is to predict if the client will subscribe (yes/no) a term deposit (variable y)."
   ]
  },
  {
   "cell_type": "code",
   "execution_count": 200,
   "metadata": {},
   "outputs": [],
   "source": [
    "#data processing package import\n",
    "import pandas as pd\n",
    "import numpy as np\n",
    "\n",
    "#model builer pacakge import\n",
    "from sklearn import metrics\n",
    "from sklearn.model_selection import train_test_split\n",
    "from sklearn.tree import DecisionTreeClassifier\n",
    "\n",
    "import matplotlib.pyplot as plt\n",
    "%matplotlib inline \n",
    "import seaborn as sns\n",
    "\n",
    "\n",
    "#from sklearn.feature_extraction.text import CountVectorizer  #DT does not take strings as input for the model fit step....\n",
    "from IPython.display import Image  \n",
    "#import pydotplus as pydot\n",
    "from sklearn import tree\n",
    "from os import system\n",
    "\n",
    "from sklearn.metrics import accuracy_score\n",
    "from sklearn.metrics import precision_score\n",
    "from sklearn.metrics import recall_score"
   ]
  },
  {
   "cell_type": "markdown",
   "metadata": {},
   "source": [
    "# 1. Reading and Checking the Data"
   ]
  },
  {
   "cell_type": "code",
   "execution_count": 201,
   "metadata": {},
   "outputs": [],
   "source": [
    "#Read Data\n",
    "df_bank1=pd.read_csv(\"bank-full.csv\")"
   ]
  },
  {
   "cell_type": "code",
   "execution_count": 202,
   "metadata": {},
   "outputs": [
    {
     "data": {
      "text/html": [
       "<div>\n",
       "<style scoped>\n",
       "    .dataframe tbody tr th:only-of-type {\n",
       "        vertical-align: middle;\n",
       "    }\n",
       "\n",
       "    .dataframe tbody tr th {\n",
       "        vertical-align: top;\n",
       "    }\n",
       "\n",
       "    .dataframe thead th {\n",
       "        text-align: right;\n",
       "    }\n",
       "</style>\n",
       "<table border=\"1\" class=\"dataframe\">\n",
       "  <thead>\n",
       "    <tr style=\"text-align: right;\">\n",
       "      <th></th>\n",
       "      <th>age</th>\n",
       "      <th>job</th>\n",
       "      <th>marital</th>\n",
       "      <th>education</th>\n",
       "      <th>default</th>\n",
       "      <th>balance</th>\n",
       "      <th>housing</th>\n",
       "      <th>loan</th>\n",
       "      <th>contact</th>\n",
       "      <th>day</th>\n",
       "      <th>month</th>\n",
       "      <th>duration</th>\n",
       "      <th>campaign</th>\n",
       "      <th>pdays</th>\n",
       "      <th>previous</th>\n",
       "      <th>poutcome</th>\n",
       "      <th>Target</th>\n",
       "    </tr>\n",
       "  </thead>\n",
       "  <tbody>\n",
       "    <tr>\n",
       "      <td>0</td>\n",
       "      <td>58</td>\n",
       "      <td>management</td>\n",
       "      <td>married</td>\n",
       "      <td>tertiary</td>\n",
       "      <td>no</td>\n",
       "      <td>2143</td>\n",
       "      <td>yes</td>\n",
       "      <td>no</td>\n",
       "      <td>unknown</td>\n",
       "      <td>5</td>\n",
       "      <td>may</td>\n",
       "      <td>261</td>\n",
       "      <td>1</td>\n",
       "      <td>-1</td>\n",
       "      <td>0</td>\n",
       "      <td>unknown</td>\n",
       "      <td>no</td>\n",
       "    </tr>\n",
       "    <tr>\n",
       "      <td>1</td>\n",
       "      <td>44</td>\n",
       "      <td>technician</td>\n",
       "      <td>single</td>\n",
       "      <td>secondary</td>\n",
       "      <td>no</td>\n",
       "      <td>29</td>\n",
       "      <td>yes</td>\n",
       "      <td>no</td>\n",
       "      <td>unknown</td>\n",
       "      <td>5</td>\n",
       "      <td>may</td>\n",
       "      <td>151</td>\n",
       "      <td>1</td>\n",
       "      <td>-1</td>\n",
       "      <td>0</td>\n",
       "      <td>unknown</td>\n",
       "      <td>no</td>\n",
       "    </tr>\n",
       "    <tr>\n",
       "      <td>2</td>\n",
       "      <td>33</td>\n",
       "      <td>entrepreneur</td>\n",
       "      <td>married</td>\n",
       "      <td>secondary</td>\n",
       "      <td>no</td>\n",
       "      <td>2</td>\n",
       "      <td>yes</td>\n",
       "      <td>yes</td>\n",
       "      <td>unknown</td>\n",
       "      <td>5</td>\n",
       "      <td>may</td>\n",
       "      <td>76</td>\n",
       "      <td>1</td>\n",
       "      <td>-1</td>\n",
       "      <td>0</td>\n",
       "      <td>unknown</td>\n",
       "      <td>no</td>\n",
       "    </tr>\n",
       "    <tr>\n",
       "      <td>3</td>\n",
       "      <td>47</td>\n",
       "      <td>blue-collar</td>\n",
       "      <td>married</td>\n",
       "      <td>unknown</td>\n",
       "      <td>no</td>\n",
       "      <td>1506</td>\n",
       "      <td>yes</td>\n",
       "      <td>no</td>\n",
       "      <td>unknown</td>\n",
       "      <td>5</td>\n",
       "      <td>may</td>\n",
       "      <td>92</td>\n",
       "      <td>1</td>\n",
       "      <td>-1</td>\n",
       "      <td>0</td>\n",
       "      <td>unknown</td>\n",
       "      <td>no</td>\n",
       "    </tr>\n",
       "    <tr>\n",
       "      <td>4</td>\n",
       "      <td>33</td>\n",
       "      <td>unknown</td>\n",
       "      <td>single</td>\n",
       "      <td>unknown</td>\n",
       "      <td>no</td>\n",
       "      <td>1</td>\n",
       "      <td>no</td>\n",
       "      <td>no</td>\n",
       "      <td>unknown</td>\n",
       "      <td>5</td>\n",
       "      <td>may</td>\n",
       "      <td>198</td>\n",
       "      <td>1</td>\n",
       "      <td>-1</td>\n",
       "      <td>0</td>\n",
       "      <td>unknown</td>\n",
       "      <td>no</td>\n",
       "    </tr>\n",
       "  </tbody>\n",
       "</table>\n",
       "</div>"
      ],
      "text/plain": [
       "   age           job  marital  education default  balance housing loan  \\\n",
       "0   58    management  married   tertiary      no     2143     yes   no   \n",
       "1   44    technician   single  secondary      no       29     yes   no   \n",
       "2   33  entrepreneur  married  secondary      no        2     yes  yes   \n",
       "3   47   blue-collar  married    unknown      no     1506     yes   no   \n",
       "4   33       unknown   single    unknown      no        1      no   no   \n",
       "\n",
       "   contact  day month  duration  campaign  pdays  previous poutcome Target  \n",
       "0  unknown    5   may       261         1     -1         0  unknown     no  \n",
       "1  unknown    5   may       151         1     -1         0  unknown     no  \n",
       "2  unknown    5   may        76         1     -1         0  unknown     no  \n",
       "3  unknown    5   may        92         1     -1         0  unknown     no  \n",
       "4  unknown    5   may       198         1     -1         0  unknown     no  "
      ]
     },
     "execution_count": 202,
     "metadata": {},
     "output_type": "execute_result"
    }
   ],
   "source": [
    "df_bank1.head()"
   ]
  },
  {
   "cell_type": "code",
   "execution_count": 203,
   "metadata": {},
   "outputs": [
    {
     "name": "stdout",
     "output_type": "stream",
     "text": [
      "Shape of data: (45211, 17)\n",
      "Number of rows:= 45211\n",
      "Number of Columns:= 17\n"
     ]
    }
   ],
   "source": [
    "# Shape of the dataframe (Rows, Column)\n",
    "df_bank1.shape\n",
    "print(f\"Shape of data: {df_bank1.shape}\")\n",
    "print(f\"Number of rows:= {df_bank1.shape[0]}\")\n",
    "print(f\"Number of Columns:= {df_bank1.shape[1]}\")\n",
    "#d1.shape[1]"
   ]
  },
  {
   "cell_type": "code",
   "execution_count": 204,
   "metadata": {},
   "outputs": [
    {
     "name": "stdout",
     "output_type": "stream",
     "text": [
      "<class 'pandas.core.frame.DataFrame'>\n",
      "RangeIndex: 45211 entries, 0 to 45210\n",
      "Data columns (total 17 columns):\n",
      "age          45211 non-null int64\n",
      "job          45211 non-null object\n",
      "marital      45211 non-null object\n",
      "education    45211 non-null object\n",
      "default      45211 non-null object\n",
      "balance      45211 non-null int64\n",
      "housing      45211 non-null object\n",
      "loan         45211 non-null object\n",
      "contact      45211 non-null object\n",
      "day          45211 non-null int64\n",
      "month        45211 non-null object\n",
      "duration     45211 non-null int64\n",
      "campaign     45211 non-null int64\n",
      "pdays        45211 non-null int64\n",
      "previous     45211 non-null int64\n",
      "poutcome     45211 non-null object\n",
      "Target       45211 non-null object\n",
      "dtypes: int64(7), object(10)\n",
      "memory usage: 5.9+ MB\n"
     ]
    }
   ],
   "source": [
    "#Data type of each attribute\n",
    "df_bank1.info()"
   ]
  },
  {
   "cell_type": "markdown",
   "metadata": {},
   "source": [
    "# # Data Type and Null Value detection"
   ]
  },
  {
   "cell_type": "raw",
   "metadata": {},
   "source": [
    "There are no null values detected in the dataset\n",
    "There are several features of type object and hence needs to be converted to appropriate type for analysis and model building. (Done below)"
   ]
  },
  {
   "cell_type": "code",
   "execution_count": 205,
   "metadata": {},
   "outputs": [
    {
     "data": {
      "text/plain": [
       "age          0\n",
       "job          0\n",
       "marital      0\n",
       "education    0\n",
       "default      0\n",
       "balance      0\n",
       "housing      0\n",
       "loan         0\n",
       "contact      0\n",
       "day          0\n",
       "month        0\n",
       "duration     0\n",
       "campaign     0\n",
       "pdays        0\n",
       "previous     0\n",
       "poutcome     0\n",
       "Target       0\n",
       "dtype: int64"
      ]
     },
     "execution_count": 205,
     "metadata": {},
     "output_type": "execute_result"
    }
   ],
   "source": [
    "#checking Null columns\n",
    "d1_null=df_bank1.isnull().sum()\n",
    "d1_null"
   ]
  },
  {
   "cell_type": "raw",
   "metadata": {},
   "source": [
    "NO Null Values detected for the given data set"
   ]
  },
  {
   "cell_type": "code",
   "execution_count": 206,
   "metadata": {},
   "outputs": [
    {
     "data": {
      "text/html": [
       "<div>\n",
       "<style scoped>\n",
       "    .dataframe tbody tr th:only-of-type {\n",
       "        vertical-align: middle;\n",
       "    }\n",
       "\n",
       "    .dataframe tbody tr th {\n",
       "        vertical-align: top;\n",
       "    }\n",
       "\n",
       "    .dataframe thead th {\n",
       "        text-align: right;\n",
       "    }\n",
       "</style>\n",
       "<table border=\"1\" class=\"dataframe\">\n",
       "  <thead>\n",
       "    <tr style=\"text-align: right;\">\n",
       "      <th></th>\n",
       "      <th>count</th>\n",
       "      <th>mean</th>\n",
       "      <th>std</th>\n",
       "      <th>min</th>\n",
       "      <th>25%</th>\n",
       "      <th>50%</th>\n",
       "      <th>75%</th>\n",
       "      <th>max</th>\n",
       "    </tr>\n",
       "  </thead>\n",
       "  <tbody>\n",
       "    <tr>\n",
       "      <td>age</td>\n",
       "      <td>45211.0</td>\n",
       "      <td>40.936210</td>\n",
       "      <td>10.618762</td>\n",
       "      <td>18.0</td>\n",
       "      <td>33.0</td>\n",
       "      <td>39.0</td>\n",
       "      <td>48.0</td>\n",
       "      <td>95.0</td>\n",
       "    </tr>\n",
       "    <tr>\n",
       "      <td>balance</td>\n",
       "      <td>45211.0</td>\n",
       "      <td>1362.272058</td>\n",
       "      <td>3044.765829</td>\n",
       "      <td>-8019.0</td>\n",
       "      <td>72.0</td>\n",
       "      <td>448.0</td>\n",
       "      <td>1428.0</td>\n",
       "      <td>102127.0</td>\n",
       "    </tr>\n",
       "    <tr>\n",
       "      <td>day</td>\n",
       "      <td>45211.0</td>\n",
       "      <td>15.806419</td>\n",
       "      <td>8.322476</td>\n",
       "      <td>1.0</td>\n",
       "      <td>8.0</td>\n",
       "      <td>16.0</td>\n",
       "      <td>21.0</td>\n",
       "      <td>31.0</td>\n",
       "    </tr>\n",
       "    <tr>\n",
       "      <td>duration</td>\n",
       "      <td>45211.0</td>\n",
       "      <td>258.163080</td>\n",
       "      <td>257.527812</td>\n",
       "      <td>0.0</td>\n",
       "      <td>103.0</td>\n",
       "      <td>180.0</td>\n",
       "      <td>319.0</td>\n",
       "      <td>4918.0</td>\n",
       "    </tr>\n",
       "    <tr>\n",
       "      <td>campaign</td>\n",
       "      <td>45211.0</td>\n",
       "      <td>2.763841</td>\n",
       "      <td>3.098021</td>\n",
       "      <td>1.0</td>\n",
       "      <td>1.0</td>\n",
       "      <td>2.0</td>\n",
       "      <td>3.0</td>\n",
       "      <td>63.0</td>\n",
       "    </tr>\n",
       "    <tr>\n",
       "      <td>pdays</td>\n",
       "      <td>45211.0</td>\n",
       "      <td>40.197828</td>\n",
       "      <td>100.128746</td>\n",
       "      <td>-1.0</td>\n",
       "      <td>-1.0</td>\n",
       "      <td>-1.0</td>\n",
       "      <td>-1.0</td>\n",
       "      <td>871.0</td>\n",
       "    </tr>\n",
       "    <tr>\n",
       "      <td>previous</td>\n",
       "      <td>45211.0</td>\n",
       "      <td>0.580323</td>\n",
       "      <td>2.303441</td>\n",
       "      <td>0.0</td>\n",
       "      <td>0.0</td>\n",
       "      <td>0.0</td>\n",
       "      <td>0.0</td>\n",
       "      <td>275.0</td>\n",
       "    </tr>\n",
       "  </tbody>\n",
       "</table>\n",
       "</div>"
      ],
      "text/plain": [
       "            count         mean          std     min    25%    50%     75%  \\\n",
       "age       45211.0    40.936210    10.618762    18.0   33.0   39.0    48.0   \n",
       "balance   45211.0  1362.272058  3044.765829 -8019.0   72.0  448.0  1428.0   \n",
       "day       45211.0    15.806419     8.322476     1.0    8.0   16.0    21.0   \n",
       "duration  45211.0   258.163080   257.527812     0.0  103.0  180.0   319.0   \n",
       "campaign  45211.0     2.763841     3.098021     1.0    1.0    2.0     3.0   \n",
       "pdays     45211.0    40.197828   100.128746    -1.0   -1.0   -1.0    -1.0   \n",
       "previous  45211.0     0.580323     2.303441     0.0    0.0    0.0     0.0   \n",
       "\n",
       "               max  \n",
       "age           95.0  \n",
       "balance   102127.0  \n",
       "day           31.0  \n",
       "duration    4918.0  \n",
       "campaign      63.0  \n",
       "pdays        871.0  \n",
       "previous     275.0  "
      ]
     },
     "execution_count": 206,
     "metadata": {},
     "output_type": "execute_result"
    }
   ],
   "source": [
    "# five point summary of numerical data types\n",
    "df_bank1.describe().transpose()"
   ]
  },
  {
   "cell_type": "markdown",
   "metadata": {},
   "source": [
    "# # Five Point summary inference"
   ]
  },
  {
   "cell_type": "raw",
   "metadata": {},
   "source": [
    "Previous:75% percentile at 0 indicates most of the contacts are new and have not been previously treid for campaign\n",
    "pdays   :75% percentile at -1 simialry indicates the same as above that most conatcts are new for the current campaign\n",
    "campaign:75% percentile with a mean of 3 indicates that most of the customer have been contacted 2-3 times during the campaign\n",
    "Age     :75% percentile at 48 indicates, most of the target customer ranges between 33-48 yers"
   ]
  },
  {
   "cell_type": "code",
   "execution_count": 207,
   "metadata": {},
   "outputs": [
    {
     "name": "stdout",
     "output_type": "stream",
     "text": [
      "Job_type:\n",
      " ['management' 'technician' 'entrepreneur' 'blue-collar' 'unknown'\n",
      " 'retired' 'admin.' 'services' 'self-employed' 'unemployed' 'housemaid'\n",
      " 'student']\n",
      "Marital_Status:\n",
      " ['married' 'single' 'divorced']\n",
      "Education Types:\n",
      " ['tertiary' 'secondary' 'unknown' 'primary']\n",
      "Credit Default Status:\n",
      " ['no' 'yes']\n",
      "Housing Loan:\n",
      " ['yes' 'no']\n",
      "contact communication type:\n",
      " ['unknown' 'cellular' 'telephone']\n",
      "Outcome-Previous Campaign:\n",
      " ['unknown' 'failure' 'other' 'success']\n"
     ]
    }
   ],
   "source": [
    "# Undertanding variables of type Object to futher process them and replace with numeric values\n",
    "job_values=df_bank1.job.unique()\n",
    "print(\"Job_type:\\n\",job_values)\n",
    "#print(\"\\n\")\n",
    "\n",
    "marital_values=df_bank1.marital.unique()\n",
    "print(\"Marital_Status:\\n\",marital_values)\n",
    "#print(\"\\n\")\n",
    "\n",
    "edu_values=df_bank1.education.unique()\n",
    "print(\"Education Types:\\n\",edu_values)\n",
    "#print(\"\\n\")\n",
    "\n",
    "default_values=df_bank1.default.unique()\n",
    "print(\"Credit Default Status:\\n\",default_values)\n",
    "#print(\"\\n\")\n",
    "\n",
    "housing_values=df_bank1.housing.unique()\n",
    "print(\"Housing Loan:\\n\",housing_values)\n",
    "#print(\"\\n\")\n",
    "\n",
    "contact_values=df_bank1.contact.unique()\n",
    "print(\"contact communication type:\\n\",contact_values)\n",
    "#print(\"\\n\")\n",
    "\n",
    "poutcome_values=df_bank1.poutcome.unique()\n",
    "print(\"Outcome-Previous Campaign:\\n\",poutcome_values)\n",
    "#print(\"\\n\")"
   ]
  },
  {
   "cell_type": "code",
   "execution_count": 208,
   "metadata": {},
   "outputs": [],
   "source": [
    "# Creating another dataset from the main data for data processing and model building\n",
    "df_bank2=df_bank1"
   ]
  },
  {
   "cell_type": "code",
   "execution_count": 209,
   "metadata": {},
   "outputs": [
    {
     "data": {
      "text/html": [
       "<div>\n",
       "<style scoped>\n",
       "    .dataframe tbody tr th:only-of-type {\n",
       "        vertical-align: middle;\n",
       "    }\n",
       "\n",
       "    .dataframe tbody tr th {\n",
       "        vertical-align: top;\n",
       "    }\n",
       "\n",
       "    .dataframe thead th {\n",
       "        text-align: right;\n",
       "    }\n",
       "</style>\n",
       "<table border=\"1\" class=\"dataframe\">\n",
       "  <thead>\n",
       "    <tr style=\"text-align: right;\">\n",
       "      <th></th>\n",
       "      <th>age</th>\n",
       "      <th>job</th>\n",
       "      <th>marital</th>\n",
       "      <th>education</th>\n",
       "      <th>default</th>\n",
       "      <th>balance</th>\n",
       "      <th>housing</th>\n",
       "      <th>loan</th>\n",
       "      <th>contact</th>\n",
       "      <th>day</th>\n",
       "      <th>month</th>\n",
       "      <th>duration</th>\n",
       "      <th>campaign</th>\n",
       "      <th>pdays</th>\n",
       "      <th>previous</th>\n",
       "      <th>poutcome</th>\n",
       "      <th>Target</th>\n",
       "    </tr>\n",
       "  </thead>\n",
       "  <tbody>\n",
       "    <tr>\n",
       "      <td>0</td>\n",
       "      <td>58</td>\n",
       "      <td>management</td>\n",
       "      <td>married</td>\n",
       "      <td>tertiary</td>\n",
       "      <td>no</td>\n",
       "      <td>2143</td>\n",
       "      <td>yes</td>\n",
       "      <td>no</td>\n",
       "      <td>unknown</td>\n",
       "      <td>5</td>\n",
       "      <td>may</td>\n",
       "      <td>261</td>\n",
       "      <td>1</td>\n",
       "      <td>-1</td>\n",
       "      <td>0</td>\n",
       "      <td>unknown</td>\n",
       "      <td>no</td>\n",
       "    </tr>\n",
       "    <tr>\n",
       "      <td>1</td>\n",
       "      <td>44</td>\n",
       "      <td>technician</td>\n",
       "      <td>single</td>\n",
       "      <td>secondary</td>\n",
       "      <td>no</td>\n",
       "      <td>29</td>\n",
       "      <td>yes</td>\n",
       "      <td>no</td>\n",
       "      <td>unknown</td>\n",
       "      <td>5</td>\n",
       "      <td>may</td>\n",
       "      <td>151</td>\n",
       "      <td>1</td>\n",
       "      <td>-1</td>\n",
       "      <td>0</td>\n",
       "      <td>unknown</td>\n",
       "      <td>no</td>\n",
       "    </tr>\n",
       "    <tr>\n",
       "      <td>2</td>\n",
       "      <td>33</td>\n",
       "      <td>entrepreneur</td>\n",
       "      <td>married</td>\n",
       "      <td>secondary</td>\n",
       "      <td>no</td>\n",
       "      <td>2</td>\n",
       "      <td>yes</td>\n",
       "      <td>yes</td>\n",
       "      <td>unknown</td>\n",
       "      <td>5</td>\n",
       "      <td>may</td>\n",
       "      <td>76</td>\n",
       "      <td>1</td>\n",
       "      <td>-1</td>\n",
       "      <td>0</td>\n",
       "      <td>unknown</td>\n",
       "      <td>no</td>\n",
       "    </tr>\n",
       "    <tr>\n",
       "      <td>3</td>\n",
       "      <td>47</td>\n",
       "      <td>blue-collar</td>\n",
       "      <td>married</td>\n",
       "      <td>unknown</td>\n",
       "      <td>no</td>\n",
       "      <td>1506</td>\n",
       "      <td>yes</td>\n",
       "      <td>no</td>\n",
       "      <td>unknown</td>\n",
       "      <td>5</td>\n",
       "      <td>may</td>\n",
       "      <td>92</td>\n",
       "      <td>1</td>\n",
       "      <td>-1</td>\n",
       "      <td>0</td>\n",
       "      <td>unknown</td>\n",
       "      <td>no</td>\n",
       "    </tr>\n",
       "    <tr>\n",
       "      <td>4</td>\n",
       "      <td>33</td>\n",
       "      <td>unknown</td>\n",
       "      <td>single</td>\n",
       "      <td>unknown</td>\n",
       "      <td>no</td>\n",
       "      <td>1</td>\n",
       "      <td>no</td>\n",
       "      <td>no</td>\n",
       "      <td>unknown</td>\n",
       "      <td>5</td>\n",
       "      <td>may</td>\n",
       "      <td>198</td>\n",
       "      <td>1</td>\n",
       "      <td>-1</td>\n",
       "      <td>0</td>\n",
       "      <td>unknown</td>\n",
       "      <td>no</td>\n",
       "    </tr>\n",
       "  </tbody>\n",
       "</table>\n",
       "</div>"
      ],
      "text/plain": [
       "   age           job  marital  education default  balance housing loan  \\\n",
       "0   58    management  married   tertiary      no     2143     yes   no   \n",
       "1   44    technician   single  secondary      no       29     yes   no   \n",
       "2   33  entrepreneur  married  secondary      no        2     yes  yes   \n",
       "3   47   blue-collar  married    unknown      no     1506     yes   no   \n",
       "4   33       unknown   single    unknown      no        1      no   no   \n",
       "\n",
       "   contact  day month  duration  campaign  pdays  previous poutcome Target  \n",
       "0  unknown    5   may       261         1     -1         0  unknown     no  \n",
       "1  unknown    5   may       151         1     -1         0  unknown     no  \n",
       "2  unknown    5   may        76         1     -1         0  unknown     no  \n",
       "3  unknown    5   may        92         1     -1         0  unknown     no  \n",
       "4  unknown    5   may       198         1     -1         0  unknown     no  "
      ]
     },
     "execution_count": 209,
     "metadata": {},
     "output_type": "execute_result"
    }
   ],
   "source": [
    "df_bank2.head(5)"
   ]
  },
  {
   "cell_type": "code",
   "execution_count": 210,
   "metadata": {},
   "outputs": [],
   "source": [
    "# Replace varaible of object type with numeric category\n",
    "\n",
    "\n",
    "df_bank2['job']=df_bank2['job'].replace({\"management\":1,\"technician\":2,\"entrepreneur\":3,\"blue-collar\":4,\n",
    "                                        \"retired\":5,\"admin.\":6,\"services\":7,\"self-employed\":8,\"unemployed\":9,\n",
    "                                         \"housemaid\":10,\"student\":11,\"unknown\":0})\n",
    "\n",
    "df_bank2['marital']=df_bank2['marital'].replace({\"married\":1,\"single\":2,\"divorced\":3})\n",
    "\n",
    "df_bank2['education']=df_bank2['education'].replace({\"primary\":1,\"secondary\":2,\"tertiary\":3,\"unknown\":0})\n",
    "\n",
    "df_bank2['loan']=df_bank2['loan'].replace({\"yes\":1,\"no\":0})\n",
    "\n",
    "df_bank2['default']=df_bank2['default'].replace({\"yes\":1,\"no\":0})\n",
    "\n",
    "df_bank2['housing']=df_bank2['housing'].replace({\"yes\":1,\"no\":0})\n",
    "\n",
    "df_bank2['contact']=df_bank2['contact'].replace({\"cellular\":1,\"telephone\":2,\"unknown\":0})\n",
    "\n",
    "df_bank2['month']=df_bank2['month'].replace({\"jan\":1,\"feb\":2,\"mar\":4,\"apr\":4,\"may\":5,\"jun\":6,\n",
    "                                            \"jul\":7,\"aug\":8,\"sep\":9,\"oct\":10,\"nov\":11,\"dec\":12})\n",
    "\n",
    "df_bank2['poutcome']=df_bank2['poutcome'].replace({\"success\":1,\"failure\":2,\"other\":3,\"unknown\":0})\n",
    "\n",
    "df_bank2['Target']=df_bank2['Target'].replace({\"yes\":1,\"no\":0})"
   ]
  },
  {
   "cell_type": "code",
   "execution_count": 211,
   "metadata": {},
   "outputs": [
    {
     "data": {
      "text/html": [
       "<div>\n",
       "<style scoped>\n",
       "    .dataframe tbody tr th:only-of-type {\n",
       "        vertical-align: middle;\n",
       "    }\n",
       "\n",
       "    .dataframe tbody tr th {\n",
       "        vertical-align: top;\n",
       "    }\n",
       "\n",
       "    .dataframe thead th {\n",
       "        text-align: right;\n",
       "    }\n",
       "</style>\n",
       "<table border=\"1\" class=\"dataframe\">\n",
       "  <thead>\n",
       "    <tr style=\"text-align: right;\">\n",
       "      <th></th>\n",
       "      <th>age</th>\n",
       "      <th>job</th>\n",
       "      <th>marital</th>\n",
       "      <th>education</th>\n",
       "      <th>default</th>\n",
       "      <th>balance</th>\n",
       "      <th>housing</th>\n",
       "      <th>loan</th>\n",
       "      <th>contact</th>\n",
       "      <th>day</th>\n",
       "      <th>month</th>\n",
       "      <th>duration</th>\n",
       "      <th>campaign</th>\n",
       "      <th>pdays</th>\n",
       "      <th>previous</th>\n",
       "      <th>poutcome</th>\n",
       "      <th>Target</th>\n",
       "    </tr>\n",
       "  </thead>\n",
       "  <tbody>\n",
       "    <tr>\n",
       "      <td>0</td>\n",
       "      <td>58</td>\n",
       "      <td>1</td>\n",
       "      <td>1</td>\n",
       "      <td>3</td>\n",
       "      <td>0</td>\n",
       "      <td>2143</td>\n",
       "      <td>1</td>\n",
       "      <td>0</td>\n",
       "      <td>0</td>\n",
       "      <td>5</td>\n",
       "      <td>5</td>\n",
       "      <td>261</td>\n",
       "      <td>1</td>\n",
       "      <td>-1</td>\n",
       "      <td>0</td>\n",
       "      <td>0</td>\n",
       "      <td>0</td>\n",
       "    </tr>\n",
       "    <tr>\n",
       "      <td>1</td>\n",
       "      <td>44</td>\n",
       "      <td>2</td>\n",
       "      <td>2</td>\n",
       "      <td>2</td>\n",
       "      <td>0</td>\n",
       "      <td>29</td>\n",
       "      <td>1</td>\n",
       "      <td>0</td>\n",
       "      <td>0</td>\n",
       "      <td>5</td>\n",
       "      <td>5</td>\n",
       "      <td>151</td>\n",
       "      <td>1</td>\n",
       "      <td>-1</td>\n",
       "      <td>0</td>\n",
       "      <td>0</td>\n",
       "      <td>0</td>\n",
       "    </tr>\n",
       "    <tr>\n",
       "      <td>2</td>\n",
       "      <td>33</td>\n",
       "      <td>3</td>\n",
       "      <td>1</td>\n",
       "      <td>2</td>\n",
       "      <td>0</td>\n",
       "      <td>2</td>\n",
       "      <td>1</td>\n",
       "      <td>1</td>\n",
       "      <td>0</td>\n",
       "      <td>5</td>\n",
       "      <td>5</td>\n",
       "      <td>76</td>\n",
       "      <td>1</td>\n",
       "      <td>-1</td>\n",
       "      <td>0</td>\n",
       "      <td>0</td>\n",
       "      <td>0</td>\n",
       "    </tr>\n",
       "    <tr>\n",
       "      <td>3</td>\n",
       "      <td>47</td>\n",
       "      <td>4</td>\n",
       "      <td>1</td>\n",
       "      <td>0</td>\n",
       "      <td>0</td>\n",
       "      <td>1506</td>\n",
       "      <td>1</td>\n",
       "      <td>0</td>\n",
       "      <td>0</td>\n",
       "      <td>5</td>\n",
       "      <td>5</td>\n",
       "      <td>92</td>\n",
       "      <td>1</td>\n",
       "      <td>-1</td>\n",
       "      <td>0</td>\n",
       "      <td>0</td>\n",
       "      <td>0</td>\n",
       "    </tr>\n",
       "    <tr>\n",
       "      <td>4</td>\n",
       "      <td>33</td>\n",
       "      <td>0</td>\n",
       "      <td>2</td>\n",
       "      <td>0</td>\n",
       "      <td>0</td>\n",
       "      <td>1</td>\n",
       "      <td>0</td>\n",
       "      <td>0</td>\n",
       "      <td>0</td>\n",
       "      <td>5</td>\n",
       "      <td>5</td>\n",
       "      <td>198</td>\n",
       "      <td>1</td>\n",
       "      <td>-1</td>\n",
       "      <td>0</td>\n",
       "      <td>0</td>\n",
       "      <td>0</td>\n",
       "    </tr>\n",
       "  </tbody>\n",
       "</table>\n",
       "</div>"
      ],
      "text/plain": [
       "   age  job  marital  education  default  balance  housing  loan  contact  \\\n",
       "0   58    1        1          3        0     2143        1     0        0   \n",
       "1   44    2        2          2        0       29        1     0        0   \n",
       "2   33    3        1          2        0        2        1     1        0   \n",
       "3   47    4        1          0        0     1506        1     0        0   \n",
       "4   33    0        2          0        0        1        0     0        0   \n",
       "\n",
       "   day  month  duration  campaign  pdays  previous  poutcome  Target  \n",
       "0    5      5       261         1     -1         0         0       0  \n",
       "1    5      5       151         1     -1         0         0       0  \n",
       "2    5      5        76         1     -1         0         0       0  \n",
       "3    5      5        92         1     -1         0         0       0  \n",
       "4    5      5       198         1     -1         0         0       0  "
      ]
     },
     "execution_count": 211,
     "metadata": {},
     "output_type": "execute_result"
    }
   ],
   "source": [
    "df_bank2.head(5)"
   ]
  },
  {
   "cell_type": "code",
   "execution_count": 212,
   "metadata": {},
   "outputs": [],
   "source": [
    "# Negative value as -1 observed in pdays column\n",
    "# Treating negative value in pdays. To get rid of negative value added 1 to to all values in pdays column \n",
    "df_bank2['pdays']+=1"
   ]
  },
  {
   "cell_type": "raw",
   "metadata": {},
   "source": [
    "Added value 1 to pdays column to treat negative value. All the values are incremented with 1 and -1 value becomes 0\n",
    "Negative values are being treated to avoid any negative planes in mathmetical space and reduce complexity"
   ]
  },
  {
   "cell_type": "code",
   "execution_count": 213,
   "metadata": {},
   "outputs": [
    {
     "data": {
      "text/html": [
       "<div>\n",
       "<style scoped>\n",
       "    .dataframe tbody tr th:only-of-type {\n",
       "        vertical-align: middle;\n",
       "    }\n",
       "\n",
       "    .dataframe tbody tr th {\n",
       "        vertical-align: top;\n",
       "    }\n",
       "\n",
       "    .dataframe thead th {\n",
       "        text-align: right;\n",
       "    }\n",
       "</style>\n",
       "<table border=\"1\" class=\"dataframe\">\n",
       "  <thead>\n",
       "    <tr style=\"text-align: right;\">\n",
       "      <th></th>\n",
       "      <th>age</th>\n",
       "      <th>job</th>\n",
       "      <th>marital</th>\n",
       "      <th>education</th>\n",
       "      <th>default</th>\n",
       "      <th>balance</th>\n",
       "      <th>housing</th>\n",
       "      <th>loan</th>\n",
       "      <th>contact</th>\n",
       "      <th>day</th>\n",
       "      <th>month</th>\n",
       "      <th>duration</th>\n",
       "      <th>campaign</th>\n",
       "      <th>pdays</th>\n",
       "      <th>previous</th>\n",
       "      <th>poutcome</th>\n",
       "      <th>Target</th>\n",
       "    </tr>\n",
       "  </thead>\n",
       "  <tbody>\n",
       "    <tr>\n",
       "      <td>0</td>\n",
       "      <td>58</td>\n",
       "      <td>1</td>\n",
       "      <td>1</td>\n",
       "      <td>3</td>\n",
       "      <td>0</td>\n",
       "      <td>2143</td>\n",
       "      <td>1</td>\n",
       "      <td>0</td>\n",
       "      <td>0</td>\n",
       "      <td>5</td>\n",
       "      <td>5</td>\n",
       "      <td>261</td>\n",
       "      <td>1</td>\n",
       "      <td>0</td>\n",
       "      <td>0</td>\n",
       "      <td>0</td>\n",
       "      <td>0</td>\n",
       "    </tr>\n",
       "    <tr>\n",
       "      <td>1</td>\n",
       "      <td>44</td>\n",
       "      <td>2</td>\n",
       "      <td>2</td>\n",
       "      <td>2</td>\n",
       "      <td>0</td>\n",
       "      <td>29</td>\n",
       "      <td>1</td>\n",
       "      <td>0</td>\n",
       "      <td>0</td>\n",
       "      <td>5</td>\n",
       "      <td>5</td>\n",
       "      <td>151</td>\n",
       "      <td>1</td>\n",
       "      <td>0</td>\n",
       "      <td>0</td>\n",
       "      <td>0</td>\n",
       "      <td>0</td>\n",
       "    </tr>\n",
       "    <tr>\n",
       "      <td>2</td>\n",
       "      <td>33</td>\n",
       "      <td>3</td>\n",
       "      <td>1</td>\n",
       "      <td>2</td>\n",
       "      <td>0</td>\n",
       "      <td>2</td>\n",
       "      <td>1</td>\n",
       "      <td>1</td>\n",
       "      <td>0</td>\n",
       "      <td>5</td>\n",
       "      <td>5</td>\n",
       "      <td>76</td>\n",
       "      <td>1</td>\n",
       "      <td>0</td>\n",
       "      <td>0</td>\n",
       "      <td>0</td>\n",
       "      <td>0</td>\n",
       "    </tr>\n",
       "    <tr>\n",
       "      <td>3</td>\n",
       "      <td>47</td>\n",
       "      <td>4</td>\n",
       "      <td>1</td>\n",
       "      <td>0</td>\n",
       "      <td>0</td>\n",
       "      <td>1506</td>\n",
       "      <td>1</td>\n",
       "      <td>0</td>\n",
       "      <td>0</td>\n",
       "      <td>5</td>\n",
       "      <td>5</td>\n",
       "      <td>92</td>\n",
       "      <td>1</td>\n",
       "      <td>0</td>\n",
       "      <td>0</td>\n",
       "      <td>0</td>\n",
       "      <td>0</td>\n",
       "    </tr>\n",
       "    <tr>\n",
       "      <td>4</td>\n",
       "      <td>33</td>\n",
       "      <td>0</td>\n",
       "      <td>2</td>\n",
       "      <td>0</td>\n",
       "      <td>0</td>\n",
       "      <td>1</td>\n",
       "      <td>0</td>\n",
       "      <td>0</td>\n",
       "      <td>0</td>\n",
       "      <td>5</td>\n",
       "      <td>5</td>\n",
       "      <td>198</td>\n",
       "      <td>1</td>\n",
       "      <td>0</td>\n",
       "      <td>0</td>\n",
       "      <td>0</td>\n",
       "      <td>0</td>\n",
       "    </tr>\n",
       "  </tbody>\n",
       "</table>\n",
       "</div>"
      ],
      "text/plain": [
       "   age  job  marital  education  default  balance  housing  loan  contact  \\\n",
       "0   58    1        1          3        0     2143        1     0        0   \n",
       "1   44    2        2          2        0       29        1     0        0   \n",
       "2   33    3        1          2        0        2        1     1        0   \n",
       "3   47    4        1          0        0     1506        1     0        0   \n",
       "4   33    0        2          0        0        1        0     0        0   \n",
       "\n",
       "   day  month  duration  campaign  pdays  previous  poutcome  Target  \n",
       "0    5      5       261         1      0         0         0       0  \n",
       "1    5      5       151         1      0         0         0       0  \n",
       "2    5      5        76         1      0         0         0       0  \n",
       "3    5      5        92         1      0         0         0       0  \n",
       "4    5      5       198         1      0         0         0       0  "
      ]
     },
     "execution_count": 213,
     "metadata": {},
     "output_type": "execute_result"
    }
   ],
   "source": [
    "df_bank2.head(5)"
   ]
  },
  {
   "cell_type": "code",
   "execution_count": 214,
   "metadata": {},
   "outputs": [
    {
     "name": "stdout",
     "output_type": "stream",
     "text": [
      "<class 'pandas.core.frame.DataFrame'>\n",
      "RangeIndex: 45211 entries, 0 to 45210\n",
      "Data columns (total 17 columns):\n",
      "age          45211 non-null int64\n",
      "job          45211 non-null int64\n",
      "marital      45211 non-null int64\n",
      "education    45211 non-null int64\n",
      "default      45211 non-null int64\n",
      "balance      45211 non-null int64\n",
      "housing      45211 non-null int64\n",
      "loan         45211 non-null int64\n",
      "contact      45211 non-null int64\n",
      "day          45211 non-null int64\n",
      "month        45211 non-null int64\n",
      "duration     45211 non-null int64\n",
      "campaign     45211 non-null int64\n",
      "pdays        45211 non-null int64\n",
      "previous     45211 non-null int64\n",
      "poutcome     45211 non-null int64\n",
      "Target       45211 non-null int64\n",
      "dtypes: int64(17)\n",
      "memory usage: 5.9 MB\n"
     ]
    }
   ],
   "source": [
    "df_bank2.info()"
   ]
  },
  {
   "cell_type": "code",
   "execution_count": 215,
   "metadata": {},
   "outputs": [],
   "source": [
    "# converting the Features to appropriate data type . \n",
    "# Though we can create models with int data type, still it is recomeended to convert variable to approtite data type\n",
    "\n",
    "df_bank2['job']=df_bank2['job'].astype('category')\n",
    "df_bank2['marital']=df_bank2['marital'].astype('category')\n",
    "df_bank2['education']=df_bank2['education'].astype('category')\n",
    "df_bank2['default']=df_bank2['default'].astype('category')\n",
    "df_bank2['housing']=df_bank2['housing'].astype('category')\n",
    "df_bank2['loan']=df_bank2['loan'].astype('category')\n",
    "df_bank2['contact']=df_bank2['contact'].astype('category')\n",
    "df_bank2['month']=df_bank2['month'].astype('category')\n",
    "df_bank2['poutcome']=df_bank2['poutcome'].astype('category')\n",
    "df_bank2['Target']=df_bank2['Target'].astype('category')"
   ]
  },
  {
   "cell_type": "code",
   "execution_count": 216,
   "metadata": {},
   "outputs": [
    {
     "name": "stdout",
     "output_type": "stream",
     "text": [
      "<class 'pandas.core.frame.DataFrame'>\n",
      "RangeIndex: 45211 entries, 0 to 45210\n",
      "Data columns (total 17 columns):\n",
      "age          45211 non-null int64\n",
      "job          45211 non-null category\n",
      "marital      45211 non-null category\n",
      "education    45211 non-null category\n",
      "default      45211 non-null category\n",
      "balance      45211 non-null int64\n",
      "housing      45211 non-null category\n",
      "loan         45211 non-null category\n",
      "contact      45211 non-null category\n",
      "day          45211 non-null int64\n",
      "month        45211 non-null category\n",
      "duration     45211 non-null int64\n",
      "campaign     45211 non-null int64\n",
      "pdays        45211 non-null int64\n",
      "previous     45211 non-null int64\n",
      "poutcome     45211 non-null category\n",
      "Target       45211 non-null category\n",
      "dtypes: category(10), int64(7)\n",
      "memory usage: 2.8 MB\n"
     ]
    }
   ],
   "source": [
    "df_bank2.info()"
   ]
  },
  {
   "cell_type": "markdown",
   "metadata": {},
   "source": [
    "# EDA"
   ]
  },
  {
   "cell_type": "code",
   "execution_count": 217,
   "metadata": {},
   "outputs": [
    {
     "data": {
      "text/plain": [
       "<matplotlib.axes._subplots.AxesSubplot at 0x772eea4b88>"
      ]
     },
     "execution_count": 217,
     "metadata": {},
     "output_type": "execute_result"
    },
    {
     "data": {
      "image/png": "[encoded data removed]",
      "text/plain": [
       "<Figure size 1440x432 with 3 Axes>"
      ]
     },
     "metadata": {
      "needs_background": "light"
     },
     "output_type": "display_data"
    },
    {
     "data": {
      "image/png": "[encoded data removed]",
      "text/plain": [
       "<Figure size 1440x432 with 3 Axes>"
      ]
     },
     "metadata": {
      "needs_background": "light"
     },
     "output_type": "display_data"
    }
   ],
   "source": [
    "# Univariate analysis - distplot\n",
    "\n",
    "plt.figure(figsize=(20,6))\n",
    "plt.subplot(1,3,1)\n",
    "plt.title('Age')\n",
    "sns.distplot(df_bank2['age'],color='green')\n",
    "\n",
    "plt.subplot(1,3,2)\n",
    "plt.title('Yearly Balance')\n",
    "sns.distplot(df_bank2['balance'],color='red')\n",
    "\n",
    "plt.subplot(1,3,3)\n",
    "plt.title('Call Duration in Secs')\n",
    "sns.distplot(df_bank1['duration'],color='blue')\n",
    "\n",
    "plt.figure(figsize=(20,6))\n",
    "plt.subplot(1,3,1)\n",
    "plt.title('Campaign Contact- Current')\n",
    "sns.distplot(df_bank2['campaign'],color='green')\n",
    "\n",
    "plt.subplot(1,3,2)\n",
    "plt.title('Days from Previous Campaign')\n",
    "sns.distplot(df_bank2['pdays'],color='red')\n",
    "\n",
    "plt.subplot(1,3,3)\n",
    "plt.title('Contacted for Previous Campaign')\n",
    "sns.distplot(df_bank2['previous'],color='blue')"
   ]
  },
  {
   "cell_type": "code",
   "execution_count": 332,
   "metadata": {},
   "outputs": [
    {
     "data": {
      "text/plain": [
       "0    0\n",
       "dtype: int64"
      ]
     },
     "execution_count": 332,
     "metadata": {},
     "output_type": "execute_result"
    }
   ],
   "source": [
    "#df_bank2['balance'].mean()\n",
    "#df_bank2['balance'].median()\n",
    "df_bank2['balance'].mode()"
   ]
  },
  {
   "cell_type": "markdown",
   "metadata": {},
   "source": [
    "# # Understanding distribution of Numeric variables"
   ]
  },
  {
   "cell_type": "raw",
   "metadata": {},
   "source": [
    "#Understanding distribution of variables\n",
    "1. All Numerical variable are right skewed\n",
    "2. Age with a mean of 40 , most the customer are ranged between 25-55 years\n",
    "3. Distribution of balance indicates it is not properly distributed and sporadic extreme values. Mode 0 indicates significant number of customer have 0   balance in account. distribution also indicates balance lesser than 0 (i.e nagative balance for significant number of customer\n",
    "4. Pdays and Previous clearly leads to most customer being 1st time contact for campaign and have not been previously contacted"
   ]
  },
  {
   "cell_type": "code",
   "execution_count": 333,
   "metadata": {
    "scrolled": false
   },
   "outputs": [
    {
     "data": {
      "text/plain": [
       "<matplotlib.axes._subplots.AxesSubplot at 0x772d6bed88>"
      ]
     },
     "execution_count": 333,
     "metadata": {},
     "output_type": "execute_result"
    },
    {
     "data": {
      "image/png": "[encoded data removed]",
      "text/plain": [
       "<Figure size 1440x432 with 4 Axes>"
      ]
     },
     "metadata": {
      "needs_background": "light"
     },
     "output_type": "display_data"
    },
    {
     "data": {
      "image/png": "[encoded data removed]",
      "text/plain": [
       "<Figure size 1440x432 with 4 Axes>"
      ]
     },
     "metadata": {
      "needs_background": "light"
     },
     "output_type": "display_data"
    }
   ],
   "source": [
    "# Count for categorical columns\n",
    "plt.figure(figsize=(20,6))\n",
    "plt.subplot(1,4,1)\n",
    "plt.title('job Type')\n",
    "sns.countplot(df_bank1['job'],orient='vertical',color='red')\n",
    "\n",
    "plt.subplot(1,4,2)\n",
    "plt.title('Marital Status')\n",
    "sns.countplot(df_bank1['marital'],orient='vertical',color='blue')\n",
    "\n",
    "plt.subplot(1,4,3)\n",
    "plt.title('Education')\n",
    "sns.countplot(df_bank1['education'],orient='vertical',color='green')\n",
    "\n",
    "plt.subplot(1,4,4)\n",
    "plt.title('Credit Default')\n",
    "sns.countplot(df_bank1['default'],orient='vertical',color='orange')\n",
    "\n",
    "plt.figure(figsize=(20,6))\n",
    "plt.subplot(1,4,1)\n",
    "plt.title('Housing Loan')\n",
    "sns.countplot(df_bank1['housing'],orient='vertical',color='red')\n",
    "\n",
    "plt.subplot(1,4,2)\n",
    "plt.title('Personal Loan')\n",
    "sns.countplot(df_bank1['loan'],orient='vertical',color='blue')\n",
    "\n",
    "plt.subplot(1,4,3)\n",
    "plt.title('Contact type')\n",
    "sns.countplot(df_bank1['contact'],orient='vertical',color='green')\n",
    "\n",
    "plt.subplot(1,4,4)\n",
    "plt.title('Previous Campaign Response')\n",
    "sns.countplot(df_bank1['poutcome'],orient='vertical',color='green')"
   ]
  },
  {
   "cell_type": "markdown",
   "metadata": {},
   "source": [
    "# # Undestanding the categorical variable"
   ]
  },
  {
   "cell_type": "raw",
   "metadata": {},
   "source": [
    "1. Job - Top 3 jobs are Management, Technician and Blue Collar\n",
    "2. More than half of the customers (~60%) are married\n",
    "3. Very less number of customers have credit default <1000\n",
    "4. Most of the customers targeted for the campaign have housing Loan ( >50%)\n",
    "5. Personal Loan customers are much lesser than Housing Loan. (~15% customers are having personal Loan)\n",
    "6. Most customer have provided mobile no as their primary contact and are being conatcted on same\n",
    "7. Most of the customers are secondary educated (~50%)\n",
    "8. Poucome 0 - is to be seen togeter with pdays and previous - indicates that most of the customers have been contacted 1 st time and hence there is no history of campaign performance "
   ]
  },
  {
   "cell_type": "markdown",
   "metadata": {},
   "source": [
    "# Understanding the Target Column- Term Deposit"
   ]
  },
  {
   "cell_type": "code",
   "execution_count": 219,
   "metadata": {},
   "outputs": [
    {
     "data": {
      "text/plain": [
       "<matplotlib.axes._subplots.AxesSubplot at 0x772d6d43c8>"
      ]
     },
     "execution_count": 219,
     "metadata": {},
     "output_type": "execute_result"
    },
    {
     "data": {
      "image/png": "[encoded data removed]",
      "text/plain": [
       "<Figure size 432x288 with 1 Axes>"
      ]
     },
     "metadata": {
      "needs_background": "light"
     },
     "output_type": "display_data"
    }
   ],
   "source": [
    "plt.title('Term Deposit (Yes/No)')\n",
    "sns.countplot(df_bank1['Target'],orient='vertical',color='red')"
   ]
  },
  {
   "cell_type": "code",
   "execution_count": 220,
   "metadata": {},
   "outputs": [
    {
     "name": "stdout",
     "output_type": "stream",
     "text": [
      "0    0.883015\n",
      "1    0.116985\n",
      "Name: Target, dtype: float64\n"
     ]
    }
   ],
   "source": [
    "# check for data imbalance\n",
    "prop_Y = df_bank2['Target'].value_counts(normalize=True)\n",
    "print(prop_Y)"
   ]
  },
  {
   "cell_type": "markdown",
   "metadata": {},
   "source": [
    "# # Infering Class Imbalance in Target Label"
   ]
  },
  {
   "cell_type": "raw",
   "metadata": {},
   "source": [
    "Infering Class Imbalance in Target Label\n",
    "\n",
    "1. There is a significant imbalance in data as observed for the Target Column.\n",
    "2. Imbalance target lable will have an impact on model perfomance- accuracy. Accuracy be dafult will be high and may give an appearance that model is performing well. But it may not be true as most of the labels in data are 0 and hence inflating the model accuracy\n",
    "3. Considering the Target lable imbalance - only accuracy will not suffice for measuring model performance and hence other measures like Recall , Precision , F1 etc. should be considered"
   ]
  },
  {
   "cell_type": "code",
   "execution_count": 221,
   "metadata": {},
   "outputs": [
    {
     "data": {
      "text/html": [
       "<div>\n",
       "<style scoped>\n",
       "    .dataframe tbody tr th:only-of-type {\n",
       "        vertical-align: middle;\n",
       "    }\n",
       "\n",
       "    .dataframe tbody tr th {\n",
       "        vertical-align: top;\n",
       "    }\n",
       "\n",
       "    .dataframe thead th {\n",
       "        text-align: right;\n",
       "    }\n",
       "</style>\n",
       "<table border=\"1\" class=\"dataframe\">\n",
       "  <thead>\n",
       "    <tr style=\"text-align: right;\">\n",
       "      <th></th>\n",
       "      <th>age</th>\n",
       "      <th>balance</th>\n",
       "      <th>campaign</th>\n",
       "      <th>day</th>\n",
       "      <th>duration</th>\n",
       "      <th>pdays</th>\n",
       "      <th>previous</th>\n",
       "    </tr>\n",
       "    <tr>\n",
       "      <th>Target</th>\n",
       "      <th></th>\n",
       "      <th></th>\n",
       "      <th></th>\n",
       "      <th></th>\n",
       "      <th></th>\n",
       "      <th></th>\n",
       "      <th></th>\n",
       "    </tr>\n",
       "  </thead>\n",
       "  <tbody>\n",
       "    <tr>\n",
       "      <td>0</td>\n",
       "      <td>40.838986</td>\n",
       "      <td>1303.714969</td>\n",
       "      <td>2.846350</td>\n",
       "      <td>15.892290</td>\n",
       "      <td>221.182806</td>\n",
       "      <td>37.421372</td>\n",
       "      <td>0.502154</td>\n",
       "    </tr>\n",
       "    <tr>\n",
       "      <td>1</td>\n",
       "      <td>41.670070</td>\n",
       "      <td>1804.267915</td>\n",
       "      <td>2.141047</td>\n",
       "      <td>15.158253</td>\n",
       "      <td>537.294574</td>\n",
       "      <td>69.702968</td>\n",
       "      <td>1.170354</td>\n",
       "    </tr>\n",
       "  </tbody>\n",
       "</table>\n",
       "</div>"
      ],
      "text/plain": [
       "              age      balance  campaign        day    duration      pdays  \\\n",
       "Target                                                                       \n",
       "0       40.838986  1303.714969  2.846350  15.892290  221.182806  37.421372   \n",
       "1       41.670070  1804.267915  2.141047  15.158253  537.294574  69.702968   \n",
       "\n",
       "        previous  \n",
       "Target            \n",
       "0       0.502154  \n",
       "1       1.170354  "
      ]
     },
     "execution_count": 221,
     "metadata": {},
     "output_type": "execute_result"
    }
   ],
   "source": [
    "pd.pivot_table(df_bank2,index='Target')"
   ]
  },
  {
   "cell_type": "code",
   "execution_count": 222,
   "metadata": {
    "scrolled": false
   },
   "outputs": [
    {
     "data": {
      "text/plain": [
       "<matplotlib.axes._subplots.AxesSubplot at 0x772f3c7888>"
      ]
     },
     "execution_count": 222,
     "metadata": {},
     "output_type": "execute_result"
    },
    {
     "data": {
      "image/png": "[encoded data removed]",
      "text/plain": [
       "<Figure size 1440x432 with 3 Axes>"
      ]
     },
     "metadata": {
      "needs_background": "light"
     },
     "output_type": "display_data"
    },
    {
     "data": {
      "image/png": "[encoded data removed]",
      "text/plain": [
       "<Figure size 1440x432 with 2 Axes>"
      ]
     },
     "metadata": {
      "needs_background": "light"
     },
     "output_type": "display_data"
    }
   ],
   "source": [
    "plt.figure(figsize=(20,6))\n",
    "plt.subplot(1,3,1)\n",
    "plt.title('Age')\n",
    "sns.boxplot(x='Target',y='age',data=df_bank1)\n",
    "\n",
    "plt.subplot(1,3,2)\n",
    "plt.title('Banalce')\n",
    "sns.boxplot(x='Target',y='balance',data=df_bank1)\n",
    "\n",
    "plt.subplot(1,3,3)\n",
    "plt.title('Call duration')\n",
    "sns.boxplot(x='Target',y='duration',data=df_bank1)\n",
    "\n",
    "plt.figure(figsize=(20,6))\n",
    "plt.subplot(1,3,1)\n",
    "plt.title('Campaign Contacts')\n",
    "sns.boxplot(x='Target',y='campaign',data=df_bank1)\n",
    "\n",
    "plt.subplot(1,3,2)\n",
    "plt.title('Previous Campaign Contacts')\n",
    "sns.boxplot(x='Target',y='previous',data=df_bank1)"
   ]
  },
  {
   "cell_type": "markdown",
   "metadata": {},
   "source": [
    "# # Inferences from BOXPLOT"
   ]
  },
  {
   "cell_type": "raw",
   "metadata": {},
   "source": [
    "# Inference from BOXPLOTS\n",
    "\n",
    "1. There is higher variation in Age for those who subscribed fro Term Deposit compared to Non Term Deposit\n",
    "2. Balance status for both Term Deposit (Yes or No) is similar with extereme values. Outliers detected in both cases\n",
    "3. Call duration for customer subscribing for Term Loan is higher compared to non - subscriber. Clarly indicating that conversion is expected to be high with higher call duration ( This indicates the customer who stays on call for longer time is trying to understand the product and hence chances of conversion increases)\n",
    "4. Campaign: Distribution for Number of contacts for the campaign is almost same for Subscriber and Non-Subscriber. Intrestingly high number of extreme values (outliers) are observed for NON- Subscriber which indicates mutiple attempts could have been made for this group for the campaign- more attempts tried to convert "
   ]
  },
  {
   "cell_type": "code",
   "execution_count": 223,
   "metadata": {},
   "outputs": [
    {
     "data": {
      "text/html": [
       "<div>\n",
       "<style scoped>\n",
       "    .dataframe tbody tr th:only-of-type {\n",
       "        vertical-align: middle;\n",
       "    }\n",
       "\n",
       "    .dataframe tbody tr th {\n",
       "        vertical-align: top;\n",
       "    }\n",
       "\n",
       "    .dataframe thead th {\n",
       "        text-align: right;\n",
       "    }\n",
       "</style>\n",
       "<table border=\"1\" class=\"dataframe\">\n",
       "  <thead>\n",
       "    <tr style=\"text-align: right;\">\n",
       "      <th>previous</th>\n",
       "      <th>0</th>\n",
       "      <th>1</th>\n",
       "      <th>2</th>\n",
       "      <th>3</th>\n",
       "      <th>4</th>\n",
       "      <th>5</th>\n",
       "      <th>6</th>\n",
       "      <th>7</th>\n",
       "      <th>8</th>\n",
       "      <th>9</th>\n",
       "      <th>...</th>\n",
       "      <th>32</th>\n",
       "      <th>35</th>\n",
       "      <th>37</th>\n",
       "      <th>38</th>\n",
       "      <th>40</th>\n",
       "      <th>41</th>\n",
       "      <th>51</th>\n",
       "      <th>55</th>\n",
       "      <th>58</th>\n",
       "      <th>275</th>\n",
       "    </tr>\n",
       "    <tr>\n",
       "      <th>Target</th>\n",
       "      <th></th>\n",
       "      <th></th>\n",
       "      <th></th>\n",
       "      <th></th>\n",
       "      <th></th>\n",
       "      <th></th>\n",
       "      <th></th>\n",
       "      <th></th>\n",
       "      <th></th>\n",
       "      <th></th>\n",
       "      <th></th>\n",
       "      <th></th>\n",
       "      <th></th>\n",
       "      <th></th>\n",
       "      <th></th>\n",
       "      <th></th>\n",
       "      <th></th>\n",
       "      <th></th>\n",
       "      <th></th>\n",
       "      <th></th>\n",
       "      <th></th>\n",
       "    </tr>\n",
       "  </thead>\n",
       "  <tbody>\n",
       "    <tr>\n",
       "      <td>0</td>\n",
       "      <td>33570</td>\n",
       "      <td>2189</td>\n",
       "      <td>1650</td>\n",
       "      <td>848</td>\n",
       "      <td>543</td>\n",
       "      <td>338</td>\n",
       "      <td>194</td>\n",
       "      <td>151</td>\n",
       "      <td>90</td>\n",
       "      <td>68</td>\n",
       "      <td>...</td>\n",
       "      <td>1</td>\n",
       "      <td>1</td>\n",
       "      <td>2</td>\n",
       "      <td>2</td>\n",
       "      <td>1</td>\n",
       "      <td>1</td>\n",
       "      <td>1</td>\n",
       "      <td>0</td>\n",
       "      <td>0</td>\n",
       "      <td>1</td>\n",
       "    </tr>\n",
       "    <tr>\n",
       "      <td>1</td>\n",
       "      <td>3384</td>\n",
       "      <td>583</td>\n",
       "      <td>456</td>\n",
       "      <td>294</td>\n",
       "      <td>171</td>\n",
       "      <td>121</td>\n",
       "      <td>83</td>\n",
       "      <td>54</td>\n",
       "      <td>39</td>\n",
       "      <td>24</td>\n",
       "      <td>...</td>\n",
       "      <td>0</td>\n",
       "      <td>0</td>\n",
       "      <td>0</td>\n",
       "      <td>0</td>\n",
       "      <td>0</td>\n",
       "      <td>0</td>\n",
       "      <td>0</td>\n",
       "      <td>1</td>\n",
       "      <td>1</td>\n",
       "      <td>0</td>\n",
       "    </tr>\n",
       "  </tbody>\n",
       "</table>\n",
       "<p>2 rows × 41 columns</p>\n",
       "</div>"
      ],
      "text/plain": [
       "previous    0     1     2    3    4    5    6    7    8    9    ...  32   35   \\\n",
       "Target                                                          ...             \n",
       "0         33570  2189  1650  848  543  338  194  151   90   68  ...    1    1   \n",
       "1          3384   583   456  294  171  121   83   54   39   24  ...    0    0   \n",
       "\n",
       "previous  37   38   40   41   51   55   58   275  \n",
       "Target                                            \n",
       "0           2    2    1    1    1    0    0    1  \n",
       "1           0    0    0    0    0    1    1    0  \n",
       "\n",
       "[2 rows x 41 columns]"
      ]
     },
     "execution_count": 223,
     "metadata": {},
     "output_type": "execute_result"
    }
   ],
   "source": [
    "pd.crosstab(df_bank1['Target'],df_bank1['previous'], dropna=False)"
   ]
  },
  {
   "cell_type": "code",
   "execution_count": 224,
   "metadata": {},
   "outputs": [
    {
     "data": {
      "text/plain": [
       "<matplotlib.axes._subplots.AxesSubplot at 0x7730d3d408>"
      ]
     },
     "execution_count": 224,
     "metadata": {},
     "output_type": "execute_result"
    },
    {
     "data": {
      "image/png": "[encoded data removed]",
      "text/plain": [
       "<Figure size 1440x432 with 4 Axes>"
      ]
     },
     "metadata": {
      "needs_background": "light"
     },
     "output_type": "display_data"
    },
    {
     "data": {
      "image/png": "[encoded data removed]",
      "text/plain": [
       "<Figure size 1440x432 with 4 Axes>"
      ]
     },
     "metadata": {
      "needs_background": "light"
     },
     "output_type": "display_data"
    },
    {
     "data": {
      "image/png": "[encoded data removed]",
      "text/plain": [
       "<Figure size 1440x432 with 1 Axes>"
      ]
     },
     "metadata": {
      "needs_background": "light"
     },
     "output_type": "display_data"
    }
   ],
   "source": [
    "plt.figure(figsize=(20,6))\n",
    "plt.subplot(1,4,1)\n",
    "sns.countplot(x='Target',hue='job',data=df_bank2)\n",
    "\n",
    "plt.subplot(1,4,2)\n",
    "sns.countplot(x='Target',hue='marital',data=df_bank2)\n",
    "\n",
    "plt.subplot(1,4,3)\n",
    "sns.countplot(x='Target',hue='education',data=df_bank2)\n",
    "\n",
    "plt.subplot(1,4,4)\n",
    "sns.countplot(x='Target',hue='default',data=df_bank2)\n",
    "\n",
    "plt.figure(figsize=(20,6))\n",
    "plt.subplot(1,4,1)\n",
    "sns.countplot(x='Target',hue='housing',data=df_bank2)\n",
    "\n",
    "plt.subplot(1,4,2)\n",
    "sns.countplot(x='Target',hue='loan',data=df_bank2)\n",
    "\n",
    "plt.subplot(1,4,3)\n",
    "sns.countplot(x='Target',hue='contact',data=df_bank2)\n",
    "\n",
    "plt.subplot(1,4,4)\n",
    "sns.countplot(x='Target',hue='month',data=df_bank2)\n",
    "\n",
    "plt.figure(figsize=(20,6))\n",
    "plt.subplot(1,4,1)\n",
    "sns.countplot(x='Target',hue='poutcome',data=df_bank2)\n"
   ]
  },
  {
   "cell_type": "raw",
   "metadata": {},
   "source": [
    "#Significant inferences from Countplots\n",
    "1. Customer having personal loan are less likely to subscribe for Term Deposit compared to customers having Housing Loan\n",
    "2. Poutcome - Successs is higher for Term Deposit Subscriber comapred to Non Subscriber-indicating siginificance of previous campaign"
   ]
  },
  {
   "cell_type": "code",
   "execution_count": 225,
   "metadata": {},
   "outputs": [
    {
     "data": {
      "text/html": [
       "<div>\n",
       "<style scoped>\n",
       "    .dataframe tbody tr th:only-of-type {\n",
       "        vertical-align: middle;\n",
       "    }\n",
       "\n",
       "    .dataframe tbody tr th {\n",
       "        vertical-align: top;\n",
       "    }\n",
       "\n",
       "    .dataframe thead th {\n",
       "        text-align: right;\n",
       "    }\n",
       "</style>\n",
       "<table border=\"1\" class=\"dataframe\">\n",
       "  <thead>\n",
       "    <tr style=\"text-align: right;\">\n",
       "      <th></th>\n",
       "      <th>age</th>\n",
       "      <th>balance</th>\n",
       "      <th>day</th>\n",
       "      <th>duration</th>\n",
       "      <th>campaign</th>\n",
       "      <th>pdays</th>\n",
       "      <th>previous</th>\n",
       "    </tr>\n",
       "    <tr>\n",
       "      <th>Target</th>\n",
       "      <th></th>\n",
       "      <th></th>\n",
       "      <th></th>\n",
       "      <th></th>\n",
       "      <th></th>\n",
       "      <th></th>\n",
       "      <th></th>\n",
       "    </tr>\n",
       "  </thead>\n",
       "  <tbody>\n",
       "    <tr>\n",
       "      <td>0</td>\n",
       "      <td>40.838986</td>\n",
       "      <td>1303.714969</td>\n",
       "      <td>15.892290</td>\n",
       "      <td>221.182806</td>\n",
       "      <td>2.846350</td>\n",
       "      <td>37.421372</td>\n",
       "      <td>0.502154</td>\n",
       "    </tr>\n",
       "    <tr>\n",
       "      <td>1</td>\n",
       "      <td>41.670070</td>\n",
       "      <td>1804.267915</td>\n",
       "      <td>15.158253</td>\n",
       "      <td>537.294574</td>\n",
       "      <td>2.141047</td>\n",
       "      <td>69.702968</td>\n",
       "      <td>1.170354</td>\n",
       "    </tr>\n",
       "  </tbody>\n",
       "</table>\n",
       "</div>"
      ],
      "text/plain": [
       "              age      balance        day    duration  campaign      pdays  \\\n",
       "Target                                                                       \n",
       "0       40.838986  1303.714969  15.892290  221.182806  2.846350  37.421372   \n",
       "1       41.670070  1804.267915  15.158253  537.294574  2.141047  69.702968   \n",
       "\n",
       "        previous  \n",
       "Target            \n",
       "0       0.502154  \n",
       "1       1.170354  "
      ]
     },
     "execution_count": 225,
     "metadata": {},
     "output_type": "execute_result"
    }
   ],
   "source": [
    "#Group by \n",
    "df_bank2.groupby([\"Target\"]).mean()"
   ]
  },
  {
   "cell_type": "code",
   "execution_count": 226,
   "metadata": {},
   "outputs": [
    {
     "data": {
      "text/html": [
       "<div>\n",
       "<style scoped>\n",
       "    .dataframe tbody tr th:only-of-type {\n",
       "        vertical-align: middle;\n",
       "    }\n",
       "\n",
       "    .dataframe tbody tr th {\n",
       "        vertical-align: top;\n",
       "    }\n",
       "\n",
       "    .dataframe thead th {\n",
       "        text-align: right;\n",
       "    }\n",
       "</style>\n",
       "<table border=\"1\" class=\"dataframe\">\n",
       "  <thead>\n",
       "    <tr style=\"text-align: right;\">\n",
       "      <th></th>\n",
       "      <th>age</th>\n",
       "      <th>balance</th>\n",
       "      <th>day</th>\n",
       "      <th>duration</th>\n",
       "      <th>campaign</th>\n",
       "      <th>pdays</th>\n",
       "      <th>previous</th>\n",
       "    </tr>\n",
       "  </thead>\n",
       "  <tbody>\n",
       "    <tr>\n",
       "      <td>age</td>\n",
       "      <td>1.000000</td>\n",
       "      <td>0.097783</td>\n",
       "      <td>-0.009120</td>\n",
       "      <td>-0.004648</td>\n",
       "      <td>0.004760</td>\n",
       "      <td>-0.023758</td>\n",
       "      <td>0.001288</td>\n",
       "    </tr>\n",
       "    <tr>\n",
       "      <td>balance</td>\n",
       "      <td>0.097783</td>\n",
       "      <td>1.000000</td>\n",
       "      <td>0.004503</td>\n",
       "      <td>0.021560</td>\n",
       "      <td>-0.014578</td>\n",
       "      <td>0.003435</td>\n",
       "      <td>0.016674</td>\n",
       "    </tr>\n",
       "    <tr>\n",
       "      <td>day</td>\n",
       "      <td>-0.009120</td>\n",
       "      <td>0.004503</td>\n",
       "      <td>1.000000</td>\n",
       "      <td>-0.030206</td>\n",
       "      <td>0.162490</td>\n",
       "      <td>-0.093044</td>\n",
       "      <td>-0.051710</td>\n",
       "    </tr>\n",
       "    <tr>\n",
       "      <td>duration</td>\n",
       "      <td>-0.004648</td>\n",
       "      <td>0.021560</td>\n",
       "      <td>-0.030206</td>\n",
       "      <td>1.000000</td>\n",
       "      <td>-0.084570</td>\n",
       "      <td>-0.001565</td>\n",
       "      <td>0.001203</td>\n",
       "    </tr>\n",
       "    <tr>\n",
       "      <td>campaign</td>\n",
       "      <td>0.004760</td>\n",
       "      <td>-0.014578</td>\n",
       "      <td>0.162490</td>\n",
       "      <td>-0.084570</td>\n",
       "      <td>1.000000</td>\n",
       "      <td>-0.088628</td>\n",
       "      <td>-0.032855</td>\n",
       "    </tr>\n",
       "    <tr>\n",
       "      <td>pdays</td>\n",
       "      <td>-0.023758</td>\n",
       "      <td>0.003435</td>\n",
       "      <td>-0.093044</td>\n",
       "      <td>-0.001565</td>\n",
       "      <td>-0.088628</td>\n",
       "      <td>1.000000</td>\n",
       "      <td>0.454820</td>\n",
       "    </tr>\n",
       "    <tr>\n",
       "      <td>previous</td>\n",
       "      <td>0.001288</td>\n",
       "      <td>0.016674</td>\n",
       "      <td>-0.051710</td>\n",
       "      <td>0.001203</td>\n",
       "      <td>-0.032855</td>\n",
       "      <td>0.454820</td>\n",
       "      <td>1.000000</td>\n",
       "    </tr>\n",
       "  </tbody>\n",
       "</table>\n",
       "</div>"
      ],
      "text/plain": [
       "               age   balance       day  duration  campaign     pdays  previous\n",
       "age       1.000000  0.097783 -0.009120 -0.004648  0.004760 -0.023758  0.001288\n",
       "balance   0.097783  1.000000  0.004503  0.021560 -0.014578  0.003435  0.016674\n",
       "day      -0.009120  0.004503  1.000000 -0.030206  0.162490 -0.093044 -0.051710\n",
       "duration -0.004648  0.021560 -0.030206  1.000000 -0.084570 -0.001565  0.001203\n",
       "campaign  0.004760 -0.014578  0.162490 -0.084570  1.000000 -0.088628 -0.032855\n",
       "pdays    -0.023758  0.003435 -0.093044 -0.001565 -0.088628  1.000000  0.454820\n",
       "previous  0.001288  0.016674 -0.051710  0.001203 -0.032855  0.454820  1.000000"
      ]
     },
     "execution_count": 226,
     "metadata": {},
     "output_type": "execute_result"
    }
   ],
   "source": [
    "df_bank2.corr()"
   ]
  },
  {
   "cell_type": "code",
   "execution_count": 227,
   "metadata": {},
   "outputs": [],
   "source": [
    "def plot_corr(df, size=15):\n",
    "    corr = df.corr()\n",
    "    fig, ax = plt.subplots(figsize=(size, size))\n",
    "    ax.matshow(corr)\n",
    "    plt.xticks(range(len(corr.columns)), corr.columns)\n",
    "    plt.yticks(range(len(corr.columns)), corr.columns)"
   ]
  },
  {
   "cell_type": "code",
   "execution_count": 228,
   "metadata": {},
   "outputs": [
    {
     "data": {
      "image/png": "[encoded data removed]",
      "text/plain": [
       "<Figure size 1080x1080 with 1 Axes>"
      ]
     },
     "metadata": {
      "needs_background": "light"
     },
     "output_type": "display_data"
    }
   ],
   "source": [
    "plot_corr(df_bank2)"
   ]
  },
  {
   "cell_type": "raw",
   "metadata": {},
   "source": [
    "There are no variable pairs with high correlation among them. Hence no variable is being dropped based on correlation."
   ]
  },
  {
   "cell_type": "code",
   "execution_count": 229,
   "metadata": {},
   "outputs": [
    {
     "name": "stdout",
     "output_type": "stream",
     "text": [
      "Customers subscribed for Term Deposit: 5289 (11.70%)\n",
      "Customers Not subscribed for Term Deposit: 39922 (88.30%)\n"
     ]
    }
   ],
   "source": [
    "df_bank2['Target']=df_bank2['Target'].astype('int64')\n",
    "\n",
    "n_true = len(df_bank2.loc[df_bank2['Target'] == True])\n",
    "n_false = len(df_bank2.loc[df_bank2['Target'] == False])\n",
    "print(\"Customers subscribed for Term Deposit: {0} ({1:2.2f}%)\".format(n_true, (n_true / (n_true + n_false)) * 100 ))\n",
    "print(\"Customers Not subscribed for Term Deposit: {0} ({1:2.2f}%)\".format(n_false, (n_false / (n_true + n_false)) * 100))"
   ]
  },
  {
   "cell_type": "code",
   "execution_count": 230,
   "metadata": {},
   "outputs": [],
   "source": [
    "df_bank2['Target']=df_bank2['Target'].astype('category')"
   ]
  },
  {
   "cell_type": "markdown",
   "metadata": {},
   "source": [
    "# Model Building"
   ]
  },
  {
   "cell_type": "raw",
   "metadata": {},
   "source": [
    "# Creating backup of the cleaned data \n",
    "df_bank3=df_bank2"
   ]
  },
  {
   "cell_type": "code",
   "execution_count": 234,
   "metadata": {},
   "outputs": [
    {
     "data": {
      "text/html": [
       "<div>\n",
       "<style scoped>\n",
       "    .dataframe tbody tr th:only-of-type {\n",
       "        vertical-align: middle;\n",
       "    }\n",
       "\n",
       "    .dataframe tbody tr th {\n",
       "        vertical-align: top;\n",
       "    }\n",
       "\n",
       "    .dataframe thead th {\n",
       "        text-align: right;\n",
       "    }\n",
       "</style>\n",
       "<table border=\"1\" class=\"dataframe\">\n",
       "  <thead>\n",
       "    <tr style=\"text-align: right;\">\n",
       "      <th></th>\n",
       "      <th>age</th>\n",
       "      <th>job</th>\n",
       "      <th>marital</th>\n",
       "      <th>education</th>\n",
       "      <th>default</th>\n",
       "      <th>balance</th>\n",
       "      <th>housing</th>\n",
       "      <th>loan</th>\n",
       "      <th>contact</th>\n",
       "      <th>day</th>\n",
       "      <th>month</th>\n",
       "      <th>duration</th>\n",
       "      <th>campaign</th>\n",
       "      <th>pdays</th>\n",
       "      <th>previous</th>\n",
       "      <th>poutcome</th>\n",
       "      <th>Target</th>\n",
       "    </tr>\n",
       "  </thead>\n",
       "  <tbody>\n",
       "    <tr>\n",
       "      <td>0</td>\n",
       "      <td>58</td>\n",
       "      <td>1</td>\n",
       "      <td>1</td>\n",
       "      <td>3</td>\n",
       "      <td>0</td>\n",
       "      <td>2143</td>\n",
       "      <td>1</td>\n",
       "      <td>0</td>\n",
       "      <td>0</td>\n",
       "      <td>5</td>\n",
       "      <td>5</td>\n",
       "      <td>261</td>\n",
       "      <td>1</td>\n",
       "      <td>0</td>\n",
       "      <td>0</td>\n",
       "      <td>0</td>\n",
       "      <td>0</td>\n",
       "    </tr>\n",
       "  </tbody>\n",
       "</table>\n",
       "</div>"
      ],
      "text/plain": [
       "   age job marital education default  balance housing loan contact  day month  \\\n",
       "0   58   1       1         3       0     2143       1    0       0    5     5   \n",
       "\n",
       "   duration  campaign  pdays  previous poutcome Target  \n",
       "0       261         1      0         0        0      0  "
      ]
     },
     "execution_count": 234,
     "metadata": {},
     "output_type": "execute_result"
    }
   ],
   "source": [
    "df_bank3.head(1)"
   ]
  },
  {
   "cell_type": "code",
   "execution_count": 235,
   "metadata": {},
   "outputs": [],
   "source": [
    "df_bank2=df_bank2.drop(\"day\",axis=1)\n",
    "\n",
    "# day is being dropped as it is calendar date and may not be approriate feature for Model building"
   ]
  },
  {
   "cell_type": "code",
   "execution_count": 291,
   "metadata": {},
   "outputs": [],
   "source": [
    "df_bank4=df_bank3\n",
    "df_bank4=df_bank4.drop(\"day\",axis=1)\n",
    "df_bank4=df_bank4.drop(\"duration\",axis=1)"
   ]
  },
  {
   "cell_type": "code",
   "execution_count": 292,
   "metadata": {},
   "outputs": [
    {
     "data": {
      "text/html": [
       "<div>\n",
       "<style scoped>\n",
       "    .dataframe tbody tr th:only-of-type {\n",
       "        vertical-align: middle;\n",
       "    }\n",
       "\n",
       "    .dataframe tbody tr th {\n",
       "        vertical-align: top;\n",
       "    }\n",
       "\n",
       "    .dataframe thead th {\n",
       "        text-align: right;\n",
       "    }\n",
       "</style>\n",
       "<table border=\"1\" class=\"dataframe\">\n",
       "  <thead>\n",
       "    <tr style=\"text-align: right;\">\n",
       "      <th></th>\n",
       "      <th>age</th>\n",
       "      <th>job</th>\n",
       "      <th>marital</th>\n",
       "      <th>education</th>\n",
       "      <th>default</th>\n",
       "      <th>balance</th>\n",
       "      <th>housing</th>\n",
       "      <th>loan</th>\n",
       "      <th>contact</th>\n",
       "      <th>month</th>\n",
       "      <th>campaign</th>\n",
       "      <th>pdays</th>\n",
       "      <th>previous</th>\n",
       "      <th>poutcome</th>\n",
       "      <th>Target</th>\n",
       "    </tr>\n",
       "  </thead>\n",
       "  <tbody>\n",
       "    <tr>\n",
       "      <td>0</td>\n",
       "      <td>58</td>\n",
       "      <td>1</td>\n",
       "      <td>1</td>\n",
       "      <td>3</td>\n",
       "      <td>0</td>\n",
       "      <td>2143</td>\n",
       "      <td>1</td>\n",
       "      <td>0</td>\n",
       "      <td>0</td>\n",
       "      <td>5</td>\n",
       "      <td>1</td>\n",
       "      <td>0</td>\n",
       "      <td>0</td>\n",
       "      <td>0</td>\n",
       "      <td>0</td>\n",
       "    </tr>\n",
       "    <tr>\n",
       "      <td>1</td>\n",
       "      <td>44</td>\n",
       "      <td>2</td>\n",
       "      <td>2</td>\n",
       "      <td>2</td>\n",
       "      <td>0</td>\n",
       "      <td>29</td>\n",
       "      <td>1</td>\n",
       "      <td>0</td>\n",
       "      <td>0</td>\n",
       "      <td>5</td>\n",
       "      <td>1</td>\n",
       "      <td>0</td>\n",
       "      <td>0</td>\n",
       "      <td>0</td>\n",
       "      <td>0</td>\n",
       "    </tr>\n",
       "  </tbody>\n",
       "</table>\n",
       "</div>"
      ],
      "text/plain": [
       "   age job marital education default  balance housing loan contact month  \\\n",
       "0   58   1       1         3       0     2143       1    0       0     5   \n",
       "1   44   2       2         2       0       29       1    0       0     5   \n",
       "\n",
       "   campaign  pdays  previous poutcome Target  \n",
       "0         1      0         0        0      0  \n",
       "1         1      0         0        0      0  "
      ]
     },
     "execution_count": 292,
     "metadata": {},
     "output_type": "execute_result"
    }
   ],
   "source": [
    "df_bank4.head(2)"
   ]
  },
  {
   "cell_type": "code",
   "execution_count": 290,
   "metadata": {},
   "outputs": [
    {
     "data": {
      "text/html": [
       "<div>\n",
       "<style scoped>\n",
       "    .dataframe tbody tr th:only-of-type {\n",
       "        vertical-align: middle;\n",
       "    }\n",
       "\n",
       "    .dataframe tbody tr th {\n",
       "        vertical-align: top;\n",
       "    }\n",
       "\n",
       "    .dataframe thead th {\n",
       "        text-align: right;\n",
       "    }\n",
       "</style>\n",
       "<table border=\"1\" class=\"dataframe\">\n",
       "  <thead>\n",
       "    <tr style=\"text-align: right;\">\n",
       "      <th></th>\n",
       "      <th>age</th>\n",
       "      <th>job</th>\n",
       "      <th>marital</th>\n",
       "      <th>education</th>\n",
       "      <th>default</th>\n",
       "      <th>balance</th>\n",
       "      <th>housing</th>\n",
       "      <th>loan</th>\n",
       "      <th>contact</th>\n",
       "      <th>month</th>\n",
       "      <th>duration</th>\n",
       "      <th>campaign</th>\n",
       "      <th>pdays</th>\n",
       "      <th>previous</th>\n",
       "      <th>poutcome</th>\n",
       "    </tr>\n",
       "  </thead>\n",
       "  <tbody>\n",
       "    <tr>\n",
       "      <td>0</td>\n",
       "      <td>58</td>\n",
       "      <td>1</td>\n",
       "      <td>1</td>\n",
       "      <td>3</td>\n",
       "      <td>0</td>\n",
       "      <td>2143</td>\n",
       "      <td>1</td>\n",
       "      <td>0</td>\n",
       "      <td>0</td>\n",
       "      <td>5</td>\n",
       "      <td>261</td>\n",
       "      <td>1</td>\n",
       "      <td>0</td>\n",
       "      <td>0</td>\n",
       "      <td>0</td>\n",
       "    </tr>\n",
       "    <tr>\n",
       "      <td>1</td>\n",
       "      <td>44</td>\n",
       "      <td>2</td>\n",
       "      <td>2</td>\n",
       "      <td>2</td>\n",
       "      <td>0</td>\n",
       "      <td>29</td>\n",
       "      <td>1</td>\n",
       "      <td>0</td>\n",
       "      <td>0</td>\n",
       "      <td>5</td>\n",
       "      <td>151</td>\n",
       "      <td>1</td>\n",
       "      <td>0</td>\n",
       "      <td>0</td>\n",
       "      <td>0</td>\n",
       "    </tr>\n",
       "  </tbody>\n",
       "</table>\n",
       "</div>"
      ],
      "text/plain": [
       "   age job marital education default  balance housing loan contact month  \\\n",
       "0   58   1       1         3       0     2143       1    0       0     5   \n",
       "1   44   2       2         2       0       29       1    0       0     5   \n",
       "\n",
       "   duration  campaign  pdays  previous poutcome  \n",
       "0       261         1      0         0        0  \n",
       "1       151         1      0         0        0  "
      ]
     },
     "execution_count": 290,
     "metadata": {},
     "output_type": "execute_result"
    }
   ],
   "source": [
    "df_bank2.head(2)"
   ]
  },
  {
   "cell_type": "code",
   "execution_count": 236,
   "metadata": {},
   "outputs": [],
   "source": [
    "X = df_bank2.drop(\"Target\" , axis=1)\n",
    "y = df_bank2.pop(\"Target\")"
   ]
  },
  {
   "cell_type": "code",
   "execution_count": 293,
   "metadata": {},
   "outputs": [],
   "source": [
    "X_D4 = df_bank4.drop(\"Target\" , axis=1)         # duration has been removed in this set to test impact of duration on model\n",
    "y_D4 = df_bank4.pop(\"Target\")"
   ]
  },
  {
   "cell_type": "code",
   "execution_count": 237,
   "metadata": {},
   "outputs": [
    {
     "data": {
      "text/html": [
       "<div>\n",
       "<style scoped>\n",
       "    .dataframe tbody tr th:only-of-type {\n",
       "        vertical-align: middle;\n",
       "    }\n",
       "\n",
       "    .dataframe tbody tr th {\n",
       "        vertical-align: top;\n",
       "    }\n",
       "\n",
       "    .dataframe thead th {\n",
       "        text-align: right;\n",
       "    }\n",
       "</style>\n",
       "<table border=\"1\" class=\"dataframe\">\n",
       "  <thead>\n",
       "    <tr style=\"text-align: right;\">\n",
       "      <th></th>\n",
       "      <th>age</th>\n",
       "      <th>job</th>\n",
       "      <th>marital</th>\n",
       "      <th>education</th>\n",
       "      <th>default</th>\n",
       "      <th>balance</th>\n",
       "      <th>housing</th>\n",
       "      <th>loan</th>\n",
       "      <th>contact</th>\n",
       "      <th>month</th>\n",
       "      <th>duration</th>\n",
       "      <th>campaign</th>\n",
       "      <th>pdays</th>\n",
       "      <th>previous</th>\n",
       "      <th>poutcome</th>\n",
       "    </tr>\n",
       "  </thead>\n",
       "  <tbody>\n",
       "    <tr>\n",
       "      <td>0</td>\n",
       "      <td>58</td>\n",
       "      <td>1</td>\n",
       "      <td>1</td>\n",
       "      <td>3</td>\n",
       "      <td>0</td>\n",
       "      <td>2143</td>\n",
       "      <td>1</td>\n",
       "      <td>0</td>\n",
       "      <td>0</td>\n",
       "      <td>5</td>\n",
       "      <td>261</td>\n",
       "      <td>1</td>\n",
       "      <td>0</td>\n",
       "      <td>0</td>\n",
       "      <td>0</td>\n",
       "    </tr>\n",
       "    <tr>\n",
       "      <td>1</td>\n",
       "      <td>44</td>\n",
       "      <td>2</td>\n",
       "      <td>2</td>\n",
       "      <td>2</td>\n",
       "      <td>0</td>\n",
       "      <td>29</td>\n",
       "      <td>1</td>\n",
       "      <td>0</td>\n",
       "      <td>0</td>\n",
       "      <td>5</td>\n",
       "      <td>151</td>\n",
       "      <td>1</td>\n",
       "      <td>0</td>\n",
       "      <td>0</td>\n",
       "      <td>0</td>\n",
       "    </tr>\n",
       "  </tbody>\n",
       "</table>\n",
       "</div>"
      ],
      "text/plain": [
       "   age job marital education default  balance housing loan contact month  \\\n",
       "0   58   1       1         3       0     2143       1    0       0     5   \n",
       "1   44   2       2         2       0       29       1    0       0     5   \n",
       "\n",
       "   duration  campaign  pdays  previous poutcome  \n",
       "0       261         1      0         0        0  \n",
       "1       151         1      0         0        0  "
      ]
     },
     "execution_count": 237,
     "metadata": {},
     "output_type": "execute_result"
    }
   ],
   "source": [
    "X.head(2)"
   ]
  },
  {
   "cell_type": "markdown",
   "metadata": {},
   "source": [
    "# Splitting the data"
   ]
  },
  {
   "cell_type": "code",
   "execution_count": 238,
   "metadata": {},
   "outputs": [],
   "source": [
    "#X_train, X_test, y_train, y_test = train_test_split(X, y, test_size=.30, random_state=1)\n",
    "X_train, X_test, y_train, y_test = train_test_split(X, y, test_size=.30)"
   ]
  },
  {
   "cell_type": "code",
   "execution_count": 294,
   "metadata": {},
   "outputs": [],
   "source": [
    "#X_train, X_test, y_train, y_test = train_test_split(X, y, test_size=.30, random_state=1)\n",
    "X_train_4, X_test_4, y_train_4, y_test_4 = train_test_split(X_D4, y_D4, test_size=.30)"
   ]
  },
  {
   "cell_type": "markdown",
   "metadata": {},
   "source": [
    "# A. Building Decision Tree Model"
   ]
  },
  {
   "cell_type": "code",
   "execution_count": 252,
   "metadata": {},
   "outputs": [
    {
     "data": {
      "text/plain": [
       "DecisionTreeClassifier(class_weight=None, criterion='entropy', max_depth=None,\n",
       "                       max_features=None, max_leaf_nodes=None,\n",
       "                       min_impurity_decrease=0.0, min_impurity_split=None,\n",
       "                       min_samples_leaf=1, min_samples_split=2,\n",
       "                       min_weight_fraction_leaf=0.0, presort=False,\n",
       "                       random_state=None, splitter='best')"
      ]
     },
     "execution_count": 252,
     "metadata": {},
     "output_type": "execute_result"
    }
   ],
   "source": [
    "dTree = DecisionTreeClassifier(criterion = 'entropy')\n",
    "dTree.fit(X_train, y_train)"
   ]
  },
  {
   "cell_type": "code",
   "execution_count": 295,
   "metadata": {},
   "outputs": [
    {
     "data": {
      "text/plain": [
       "DecisionTreeClassifier(class_weight=None, criterion='entropy', max_depth=None,\n",
       "                       max_features=None, max_leaf_nodes=None,\n",
       "                       min_impurity_decrease=0.0, min_impurity_split=None,\n",
       "                       min_samples_leaf=1, min_samples_split=2,\n",
       "                       min_weight_fraction_leaf=0.0, presort=False,\n",
       "                       random_state=None, splitter='best')"
      ]
     },
     "execution_count": 295,
     "metadata": {},
     "output_type": "execute_result"
    }
   ],
   "source": [
    "dTree_D4 = DecisionTreeClassifier(criterion = 'entropy')\n",
    "dTree_D4.fit(X_train_4, y_train_4)"
   ]
  },
  {
   "cell_type": "code",
   "execution_count": 337,
   "metadata": {},
   "outputs": [
    {
     "name": "stdout",
     "output_type": "stream",
     "text": [
      "dTree-All feature-Train: 1.0\n",
      "dTree-All feature-Test: 0.8702447655558833\n",
      "\n",
      "\n",
      "Dtree- Duration dropped-Train  0.9998104085695326\n",
      "Dtree- Duration dropped-Train 0.8268947213211442\n"
     ]
    }
   ],
   "source": [
    "# Decision Tree Scores\n",
    "print(\"dTree-All feature-Train:\",dTree.score(X_train, y_train))\n",
    "print(\"dTree-All feature-Test:\",dTree.score(X_test, y_test))\n",
    "\n",
    "print(\"\\n\")\n",
    "print(\"Dtree- Duration dropped-Train \",dTree_D4.score(X_train_4, y_train_4))\n",
    "print(\"Dtree- Duration dropped-Train\",dTree_D4.score(X_test_4, y_test_4))"
   ]
  },
  {
   "cell_type": "markdown",
   "metadata": {},
   "source": [
    "# # Feature selection"
   ]
  },
  {
   "cell_type": "raw",
   "metadata": {},
   "source": [
    "1. As per score the train model score is 1 which indicates model is overfit and creates a large complex Tree\n",
    "\n",
    "2. On removing duration feature - Model performance score dropped on test significantly from 0.87 to 0.82. Hence retaining the duration column for further Model Building"
   ]
  },
  {
   "cell_type": "code",
   "execution_count": 365,
   "metadata": {},
   "outputs": [
    {
     "name": "stdout",
     "output_type": "stream",
     "text": [
      "confusion matrix = \n",
      " [[27969     0]\n",
      " [    0  3678]] \n",
      "\n",
      "classification_report = \n",
      "               precision    recall  f1-score   support\n",
      "\n",
      "           0       1.00      1.00      1.00     27969\n",
      "           1       1.00      1.00      1.00      3678\n",
      "\n",
      "    accuracy                           1.00     31647\n",
      "   macro avg       1.00      1.00      1.00     31647\n",
      "weighted avg       1.00      1.00      1.00     31647\n",
      "\n"
     ]
    }
   ],
   "source": [
    "# Predit for train\n",
    "pred_test = dTree.predict(X_train)\n",
    "\n",
    "from sklearn.metrics import classification_report,confusion_matrix\n",
    "matrix_train = confusion_matrix(y_train,pred_test)\n",
    "print(\"confusion matrix = \\n\",matrix_train,\"\\n\")\n",
    "matrix_train = classification_report(y_train,pred_test)\n",
    "print(\"classification_report = \\n\",matrix_train)"
   ]
  },
  {
   "cell_type": "code",
   "execution_count": 338,
   "metadata": {},
   "outputs": [
    {
     "name": "stdout",
     "output_type": "stream",
     "text": [
      "confusion matrix = \n",
      " [[11058   895]\n",
      " [  865   746]] \n",
      "\n",
      "classification_report = \n",
      "               precision    recall  f1-score   support\n",
      "\n",
      "           0       0.93      0.93      0.93     11953\n",
      "           1       0.45      0.46      0.46      1611\n",
      "\n",
      "    accuracy                           0.87     13564\n",
      "   macro avg       0.69      0.69      0.69     13564\n",
      "weighted avg       0.87      0.87      0.87     13564\n",
      "\n"
     ]
    }
   ],
   "source": [
    "# Predit for test- Decision Tree\n",
    "pred_test = dTree.predict(X_test)\n",
    "\n",
    "from sklearn.metrics import classification_report,confusion_matrix\n",
    "matrix_test = confusion_matrix(y_test,pred_test)\n",
    "print(\"confusion matrix = \\n\",matrix_test,\"\\n\")\n",
    "matrix_test = classification_report(y_test,pred_test)\n",
    "print(\"classification_report = \\n\",matrix_test)"
   ]
  },
  {
   "cell_type": "code",
   "execution_count": 345,
   "metadata": {},
   "outputs": [
    {
     "name": "stdout",
     "output_type": "stream",
     "text": [
      "\n",
      "\n",
      "DTREE Score Comparison for Test Data\n",
      "DTREE- Accuracy  : 0.8702447655558833\n",
      "DTREE- Precision : 0.45460085313833026\n",
      "DTREE- Recall    : 0.46306641837368095\n",
      "DTREE- F1 Score  : 0.4587945879458794\n"
     ]
    }
   ],
   "source": [
    "pred_test_DT = dTree.predict(X_test)\n",
    "\n",
    "DT_acc=accuracy_score(y_test,pred_test_DT)\n",
    "DT_pre=precision_score(y_test,pred_test_DT)\n",
    "DT_rec=recall_score(y_test,pred_test_DT)\n",
    "DT_F1=2*((DT_pre*DT_rec)/(DT_pre+DT_rec))\n",
    "\n",
    "print(\"\\n\")\n",
    "print(\"DTREE Score Comparison for Test Data\")\n",
    "print(\"DTREE- Accuracy  :\",DT_acc)\n",
    "print(\"DTREE- Precision :\",DT_pre)\n",
    "print(\"DTREE- Recall    :\",DT_rec)\n",
    "print(\"DTREE- F1 Score  :\",DT_F1)"
   ]
  },
  {
   "cell_type": "markdown",
   "metadata": {},
   "source": [
    "# B. Logistic Model"
   ]
  },
  {
   "cell_type": "code",
   "execution_count": 264,
   "metadata": {},
   "outputs": [
    {
     "name": "stderr",
     "output_type": "stream",
     "text": [
      "C:\\Users\\SRIKANT\\Anaconda3\\lib\\site-packages\\sklearn\\linear_model\\logistic.py:432: FutureWarning: Default solver will be changed to 'lbfgs' in 0.22. Specify a solver to silence this warning.\n",
      "  FutureWarning)\n"
     ]
    }
   ],
   "source": [
    "from sklearn.linear_model import LogisticRegression\n",
    "\n",
    "#Building Model:1- the logistic Regression model- \n",
    "logisticRegr = LogisticRegression()\n",
    "lg=logisticRegr.fit(X_train, y_train)"
   ]
  },
  {
   "cell_type": "code",
   "execution_count": 297,
   "metadata": {},
   "outputs": [
    {
     "name": "stderr",
     "output_type": "stream",
     "text": [
      "C:\\Users\\SRIKANT\\Anaconda3\\lib\\site-packages\\sklearn\\linear_model\\logistic.py:432: FutureWarning: Default solver will be changed to 'lbfgs' in 0.22. Specify a solver to silence this warning.\n",
      "  FutureWarning)\n"
     ]
    }
   ],
   "source": [
    "from sklearn.linear_model import LogisticRegression\n",
    "\n",
    "#Building Model:1- the logistic Regression model- \n",
    "logisticRegr_4 = LogisticRegression()\n",
    "lg_4=logisticRegr_4.fit(X_train_4, y_train_4)"
   ]
  },
  {
   "cell_type": "code",
   "execution_count": 343,
   "metadata": {},
   "outputs": [
    {
     "name": "stdout",
     "output_type": "stream",
     "text": [
      "confusion matrix = \n",
      " [[11778   175]\n",
      " [ 1302   309]] \n",
      "\n",
      "classification_report = \n",
      "               precision    recall  f1-score   support\n",
      "\n",
      "           0       0.90      0.99      0.94     11953\n",
      "           1       0.64      0.19      0.29      1611\n",
      "\n",
      "    accuracy                           0.89     13564\n",
      "   macro avg       0.77      0.59      0.62     13564\n",
      "weighted avg       0.87      0.89      0.86     13564\n",
      "\n"
     ]
    }
   ],
   "source": [
    "# Predit for test- Logistic Regression\n",
    "pred_test = logisticRegr.predict(X_test)\n",
    "\n",
    "from sklearn.metrics import classification_report,confusion_matrix\n",
    "matrix_test = confusion_matrix(y_test,pred_test)\n",
    "print(\"confusion matrix = \\n\",matrix_test,\"\\n\")\n",
    "matrix_test = classification_report(y_test,pred_test)\n",
    "print(\"classification_report = \\n\",matrix_test)"
   ]
  },
  {
   "cell_type": "code",
   "execution_count": 346,
   "metadata": {},
   "outputs": [
    {
     "name": "stdout",
     "output_type": "stream",
     "text": [
      "\n",
      "\n",
      "LOGISTIC Score Comparison for Test Data\n",
      "Logistics- Accuracy  : 0.891108817457977\n",
      "Logistics- Precision : 0.6384297520661157\n",
      "Logistics- Recall    : 0.19180633147113593\n",
      "Logistics- F1 Score  : 0.29498806682577566\n"
     ]
    }
   ],
   "source": [
    "# Score \n",
    "\n",
    "pred_test_LG = logisticRegr.predict(X_test)\n",
    "\n",
    "LG_acc=accuracy_score(y_test,pred_test_LG)\n",
    "LG_pre=precision_score(y_test,pred_test_LG)\n",
    "LG_rec=recall_score(y_test,pred_test_LG)\n",
    "LG_F1=2*((LG_pre*LG_rec)/(LG_pre+LG_rec))\n",
    "\n",
    "print(\"\\n\")\n",
    "print(\"LOGISTIC Score Comparison for Test Data\")\n",
    "print(\"Logistics- Accuracy  :\",LG_acc)\n",
    "print(\"Logistics- Precision :\",LG_pre)\n",
    "print(\"Logistics- Recall    :\",LG_rec)\n",
    "print(\"Logistics- F1 Score  :\",LG_F1)"
   ]
  },
  {
   "cell_type": "code",
   "execution_count": 298,
   "metadata": {},
   "outputs": [
    {
     "name": "stdout",
     "output_type": "stream",
     "text": [
      "0.891108817457977\n",
      "\n",
      "\n",
      "0.8784281922736655\n"
     ]
    }
   ],
   "source": [
    "# Use score method to get accuracy of model\n",
    "LG_Score = logisticRegr.score(X_test, y_test)\n",
    "print(LG_Score)\n",
    "print(\"\\n\")\n",
    "LG_Score_4 = logisticRegr_4.score(X_test_4, y_test_4)\n",
    "print(LG_Score_4)"
   ]
  },
  {
   "cell_type": "markdown",
   "metadata": {},
   "source": [
    "# C. KNN Model"
   ]
  },
  {
   "cell_type": "code",
   "execution_count": 270,
   "metadata": {},
   "outputs": [
    {
     "data": {
      "text/html": [
       "<div>\n",
       "<style scoped>\n",
       "    .dataframe tbody tr th:only-of-type {\n",
       "        vertical-align: middle;\n",
       "    }\n",
       "\n",
       "    .dataframe tbody tr th {\n",
       "        vertical-align: top;\n",
       "    }\n",
       "\n",
       "    .dataframe thead th {\n",
       "        text-align: right;\n",
       "    }\n",
       "</style>\n",
       "<table border=\"1\" class=\"dataframe\">\n",
       "  <thead>\n",
       "    <tr style=\"text-align: right;\">\n",
       "      <th></th>\n",
       "      <th>age</th>\n",
       "      <th>job</th>\n",
       "      <th>marital</th>\n",
       "      <th>education</th>\n",
       "      <th>default</th>\n",
       "      <th>balance</th>\n",
       "      <th>housing</th>\n",
       "      <th>loan</th>\n",
       "      <th>contact</th>\n",
       "      <th>month</th>\n",
       "      <th>duration</th>\n",
       "      <th>campaign</th>\n",
       "      <th>pdays</th>\n",
       "      <th>previous</th>\n",
       "      <th>poutcome</th>\n",
       "    </tr>\n",
       "  </thead>\n",
       "  <tbody>\n",
       "    <tr>\n",
       "      <td>count</td>\n",
       "      <td>4.521100e+04</td>\n",
       "      <td>4.521100e+04</td>\n",
       "      <td>4.521100e+04</td>\n",
       "      <td>4.521100e+04</td>\n",
       "      <td>4.521100e+04</td>\n",
       "      <td>4.521100e+04</td>\n",
       "      <td>4.521100e+04</td>\n",
       "      <td>4.521100e+04</td>\n",
       "      <td>4.521100e+04</td>\n",
       "      <td>4.521100e+04</td>\n",
       "      <td>4.521100e+04</td>\n",
       "      <td>4.521100e+04</td>\n",
       "      <td>4.521100e+04</td>\n",
       "      <td>4.521100e+04</td>\n",
       "      <td>4.521100e+04</td>\n",
       "    </tr>\n",
       "    <tr>\n",
       "      <td>mean</td>\n",
       "      <td>5.222844e-16</td>\n",
       "      <td>6.234662e-15</td>\n",
       "      <td>-1.647804e-15</td>\n",
       "      <td>1.573149e-14</td>\n",
       "      <td>4.520540e-15</td>\n",
       "      <td>3.070663e-15</td>\n",
       "      <td>1.382298e-14</td>\n",
       "      <td>-1.275129e-14</td>\n",
       "      <td>1.457015e-13</td>\n",
       "      <td>-3.487254e-14</td>\n",
       "      <td>5.560938e-17</td>\n",
       "      <td>1.254699e-14</td>\n",
       "      <td>-1.395817e-13</td>\n",
       "      <td>1.355210e-13</td>\n",
       "      <td>-1.410292e-13</td>\n",
       "    </tr>\n",
       "    <tr>\n",
       "      <td>std</td>\n",
       "      <td>1.000011e+00</td>\n",
       "      <td>1.000011e+00</td>\n",
       "      <td>1.000011e+00</td>\n",
       "      <td>1.000011e+00</td>\n",
       "      <td>1.000011e+00</td>\n",
       "      <td>1.000011e+00</td>\n",
       "      <td>1.000011e+00</td>\n",
       "      <td>1.000011e+00</td>\n",
       "      <td>1.000011e+00</td>\n",
       "      <td>1.000011e+00</td>\n",
       "      <td>1.000011e+00</td>\n",
       "      <td>1.000011e+00</td>\n",
       "      <td>1.000011e+00</td>\n",
       "      <td>1.000011e+00</td>\n",
       "      <td>1.000011e+00</td>\n",
       "    </tr>\n",
       "    <tr>\n",
       "      <td>min</td>\n",
       "      <td>-2.159994e+00</td>\n",
       "      <td>-1.527989e+00</td>\n",
       "      <td>-7.406664e-01</td>\n",
       "      <td>-2.646114e+00</td>\n",
       "      <td>-1.354899e-01</td>\n",
       "      <td>-3.081149e+00</td>\n",
       "      <td>-1.118674e+00</td>\n",
       "      <td>-4.368035e-01</td>\n",
       "      <td>-1.412108e+00</td>\n",
       "      <td>-2.151257e+00</td>\n",
       "      <td>-1.002478e+00</td>\n",
       "      <td>-5.693506e-01</td>\n",
       "      <td>-4.114531e-01</td>\n",
       "      <td>-2.519404e-01</td>\n",
       "      <td>-4.467054e-01</td>\n",
       "    </tr>\n",
       "    <tr>\n",
       "      <td>25%</td>\n",
       "      <td>-7.473845e-01</td>\n",
       "      <td>-7.873310e-01</td>\n",
       "      <td>-7.406664e-01</td>\n",
       "      <td>-7.771493e-02</td>\n",
       "      <td>-1.354899e-01</td>\n",
       "      <td>-4.237719e-01</td>\n",
       "      <td>-1.118674e+00</td>\n",
       "      <td>-4.368035e-01</td>\n",
       "      <td>-1.412108e+00</td>\n",
       "      <td>-4.820650e-01</td>\n",
       "      <td>-6.025167e-01</td>\n",
       "      <td>-5.693506e-01</td>\n",
       "      <td>-4.114531e-01</td>\n",
       "      <td>-2.519404e-01</td>\n",
       "      <td>-4.467054e-01</td>\n",
       "    </tr>\n",
       "    <tr>\n",
       "      <td>50%</td>\n",
       "      <td>-1.823406e-01</td>\n",
       "      <td>-4.667303e-02</td>\n",
       "      <td>-7.406664e-01</td>\n",
       "      <td>-7.771493e-02</td>\n",
       "      <td>-1.354899e-01</td>\n",
       "      <td>-3.002800e-01</td>\n",
       "      <td>8.939154e-01</td>\n",
       "      <td>-4.368035e-01</td>\n",
       "      <td>4.069312e-01</td>\n",
       "      <td>-6.476699e-02</td>\n",
       "      <td>-3.035165e-01</td>\n",
       "      <td>-2.465603e-01</td>\n",
       "      <td>-4.114531e-01</td>\n",
       "      <td>-2.519404e-01</td>\n",
       "      <td>-4.467054e-01</td>\n",
       "    </tr>\n",
       "    <tr>\n",
       "      <td>75%</td>\n",
       "      <td>6.652252e-01</td>\n",
       "      <td>6.939849e-01</td>\n",
       "      <td>7.024584e-01</td>\n",
       "      <td>1.206484e+00</td>\n",
       "      <td>-1.354899e-01</td>\n",
       "      <td>2.158743e-02</td>\n",
       "      <td>8.939154e-01</td>\n",
       "      <td>-4.368035e-01</td>\n",
       "      <td>4.069312e-01</td>\n",
       "      <td>7.698291e-01</td>\n",
       "      <td>2.362370e-01</td>\n",
       "      <td>7.622994e-02</td>\n",
       "      <td>-4.114531e-01</td>\n",
       "      <td>-2.519404e-01</td>\n",
       "      <td>-4.467054e-01</td>\n",
       "    </tr>\n",
       "    <tr>\n",
       "      <td>max</td>\n",
       "      <td>5.091402e+00</td>\n",
       "      <td>2.545630e+00</td>\n",
       "      <td>2.145583e+00</td>\n",
       "      <td>1.206484e+00</td>\n",
       "      <td>7.380625e+00</td>\n",
       "      <td>3.309478e+01</td>\n",
       "      <td>8.939154e-01</td>\n",
       "      <td>2.289359e+00</td>\n",
       "      <td>2.225971e+00</td>\n",
       "      <td>2.439021e+00</td>\n",
       "      <td>1.809470e+01</td>\n",
       "      <td>1.944365e+01</td>\n",
       "      <td>8.297431e+00</td>\n",
       "      <td>1.191360e+02</td>\n",
       "      <td>3.152653e+00</td>\n",
       "    </tr>\n",
       "  </tbody>\n",
       "</table>\n",
       "</div>"
      ],
      "text/plain": [
       "                age           job       marital     education       default  \\\n",
       "count  4.521100e+04  4.521100e+04  4.521100e+04  4.521100e+04  4.521100e+04   \n",
       "mean   5.222844e-16  6.234662e-15 -1.647804e-15  1.573149e-14  4.520540e-15   \n",
       "std    1.000011e+00  1.000011e+00  1.000011e+00  1.000011e+00  1.000011e+00   \n",
       "min   -2.159994e+00 -1.527989e+00 -7.406664e-01 -2.646114e+00 -1.354899e-01   \n",
       "25%   -7.473845e-01 -7.873310e-01 -7.406664e-01 -7.771493e-02 -1.354899e-01   \n",
       "50%   -1.823406e-01 -4.667303e-02 -7.406664e-01 -7.771493e-02 -1.354899e-01   \n",
       "75%    6.652252e-01  6.939849e-01  7.024584e-01  1.206484e+00 -1.354899e-01   \n",
       "max    5.091402e+00  2.545630e+00  2.145583e+00  1.206484e+00  7.380625e+00   \n",
       "\n",
       "            balance       housing          loan       contact         month  \\\n",
       "count  4.521100e+04  4.521100e+04  4.521100e+04  4.521100e+04  4.521100e+04   \n",
       "mean   3.070663e-15  1.382298e-14 -1.275129e-14  1.457015e-13 -3.487254e-14   \n",
       "std    1.000011e+00  1.000011e+00  1.000011e+00  1.000011e+00  1.000011e+00   \n",
       "min   -3.081149e+00 -1.118674e+00 -4.368035e-01 -1.412108e+00 -2.151257e+00   \n",
       "25%   -4.237719e-01 -1.118674e+00 -4.368035e-01 -1.412108e+00 -4.820650e-01   \n",
       "50%   -3.002800e-01  8.939154e-01 -4.368035e-01  4.069312e-01 -6.476699e-02   \n",
       "75%    2.158743e-02  8.939154e-01 -4.368035e-01  4.069312e-01  7.698291e-01   \n",
       "max    3.309478e+01  8.939154e-01  2.289359e+00  2.225971e+00  2.439021e+00   \n",
       "\n",
       "           duration      campaign         pdays      previous      poutcome  \n",
       "count  4.521100e+04  4.521100e+04  4.521100e+04  4.521100e+04  4.521100e+04  \n",
       "mean   5.560938e-17  1.254699e-14 -1.395817e-13  1.355210e-13 -1.410292e-13  \n",
       "std    1.000011e+00  1.000011e+00  1.000011e+00  1.000011e+00  1.000011e+00  \n",
       "min   -1.002478e+00 -5.693506e-01 -4.114531e-01 -2.519404e-01 -4.467054e-01  \n",
       "25%   -6.025167e-01 -5.693506e-01 -4.114531e-01 -2.519404e-01 -4.467054e-01  \n",
       "50%   -3.035165e-01 -2.465603e-01 -4.114531e-01 -2.519404e-01 -4.467054e-01  \n",
       "75%    2.362370e-01  7.622994e-02 -4.114531e-01 -2.519404e-01 -4.467054e-01  \n",
       "max    1.809470e+01  1.944365e+01  8.297431e+00  1.191360e+02  3.152653e+00  "
      ]
     },
     "execution_count": 270,
     "metadata": {},
     "output_type": "execute_result"
    }
   ],
   "source": [
    "# converting the features into z scores since our data has different units. \n",
    "# For KNN Modelling data need to be in same scale and need to be normalized\n",
    "# It is always adviced to scale numeric attributes in models that calculate distances.\n",
    "from sklearn.neighbors import KNeighborsClassifier\n",
    "from scipy.stats import zscore\n",
    "\n",
    "XScaled  = X.apply(zscore)  # convert all attributes to Z scale \n",
    "\n",
    "XScaled.describe()"
   ]
  },
  {
   "cell_type": "code",
   "execution_count": 271,
   "metadata": {},
   "outputs": [],
   "source": [
    "X_KNNtrain, X_KNNtest, Y_KNNtrain, Y_KNNtest = train_test_split(XScaled, y, test_size=0.30)\n",
    "#X_KNNtrain, X_KNNtest, Y_KNNtrain, Y_KNNtest = train_test_split(XScaled, Y, test_size=0.30, random_state=1)"
   ]
  },
  {
   "cell_type": "code",
   "execution_count": 299,
   "metadata": {},
   "outputs": [],
   "source": [
    "XScaled_D4  = X_D4.apply(zscore)\n",
    "X_KNNtrain_D4, X_KNNtest_D4, Y_KNNtrain_D4, Y_KNNtest_D4 = train_test_split(XScaled_D4, y_D4, test_size=0.30)"
   ]
  },
  {
   "cell_type": "code",
   "execution_count": 273,
   "metadata": {},
   "outputs": [
    {
     "data": {
      "text/plain": [
       "KNeighborsClassifier(algorithm='auto', leaf_size=30, metric='minkowski',\n",
       "                     metric_params=None, n_jobs=None, n_neighbors=5, p=2,\n",
       "                     weights='distance')"
      ]
     },
     "execution_count": 273,
     "metadata": {},
     "output_type": "execute_result"
    }
   ],
   "source": [
    "NNH = KNeighborsClassifier(n_neighbors= 5 , weights = 'distance' )\n",
    "\n",
    "# Call Nearest Neighbour algorithm\n",
    "\n",
    "NNH.fit(X_KNNtrain, Y_KNNtrain)"
   ]
  },
  {
   "cell_type": "code",
   "execution_count": 300,
   "metadata": {},
   "outputs": [
    {
     "data": {
      "text/plain": [
       "KNeighborsClassifier(algorithm='auto', leaf_size=30, metric='minkowski',\n",
       "                     metric_params=None, n_jobs=None, n_neighbors=5, p=2,\n",
       "                     weights='distance')"
      ]
     },
     "execution_count": 300,
     "metadata": {},
     "output_type": "execute_result"
    }
   ],
   "source": [
    "NNH_D4 = KNeighborsClassifier(n_neighbors= 5 , weights = 'distance' )\n",
    "\n",
    "# Call Nearest Neighbour algorithm\n",
    "\n",
    "NNH_D4.fit(X_KNNtrain_D4, Y_KNNtrain_D4)"
   ]
  },
  {
   "cell_type": "code",
   "execution_count": 301,
   "metadata": {},
   "outputs": [
    {
     "name": "stdout",
     "output_type": "stream",
     "text": [
      "0.891108817457977\n",
      "0.8779858448835152\n"
     ]
    }
   ],
   "source": [
    "predicted_labels = NNH.predict(X_KNNtest)\n",
    "KNN_Score=NNH.score(X_KNNtest, Y_KNNtest)\n",
    "print(KNN_Score)\n",
    "\n",
    "predicted_labels_D4 = NNH_D4.predict(X_KNNtest_D4)\n",
    "KNN_Score_D4=NNH_D4.score(X_KNNtest_D4, Y_KNNtest_D4)\n",
    "print(KNN_Score_D4)"
   ]
  },
  {
   "cell_type": "code",
   "execution_count": 364,
   "metadata": {},
   "outputs": [
    {
     "name": "stdout",
     "output_type": "stream",
     "text": [
      "confusion matrix = \n",
      " [[11560   424]\n",
      " [ 1053   527]] \n",
      "\n",
      "classification_report = \n",
      "               precision    recall  f1-score   support\n",
      "\n",
      "           0       0.92      0.96      0.94     11984\n",
      "           1       0.55      0.33      0.42      1580\n",
      "\n",
      "    accuracy                           0.89     13564\n",
      "   macro avg       0.74      0.65      0.68     13564\n",
      "weighted avg       0.87      0.89      0.88     13564\n",
      "\n"
     ]
    }
   ],
   "source": [
    "# Predit for test- KNN MODEL\n",
    "pred_test = NNH.predict(X_KNNtest)\n",
    "\n",
    "from sklearn.metrics import classification_report,confusion_matrix\n",
    "matrix_test = confusion_matrix(Y_KNNtest,pred_test)\n",
    "print(\"confusion matrix = \\n\",matrix_test,\"\\n\")\n",
    "matrix_test = classification_report(Y_KNNtest,pred_test)\n",
    "print(\"classification_report = \\n\",matrix_test)"
   ]
  },
  {
   "cell_type": "code",
   "execution_count": 348,
   "metadata": {},
   "outputs": [
    {
     "name": "stdout",
     "output_type": "stream",
     "text": [
      "\n",
      "\n",
      "KNN Score Comparison for Test Data\n",
      "KNN- Accuracy  : 0.891108817457977\n",
      "KNN- Precision : 0.5541535226077813\n",
      "KNN- Recall    : 0.33354430379746836\n",
      "KNN- F1 Score  : 0.41643619122876335\n"
     ]
    }
   ],
   "source": [
    "pred_test_KNN = NNH.predict(X_KNNtest)\n",
    "\n",
    "KNN_acc=accuracy_score(Y_KNNtest,pred_test_KNN)\n",
    "KNN_pre=precision_score(Y_KNNtest,pred_test_KNN)\n",
    "KNN_rec=recall_score(Y_KNNtest,pred_test_KNN)\n",
    "KNN_F1=2*((KNN_pre*KNN_rec)/(KNN_pre+KNN_rec))\n",
    "\n",
    "print(\"\\n\")\n",
    "print(\"KNN Score Comparison for Test Data\")\n",
    "print(\"KNN- Accuracy  :\",KNN_acc)\n",
    "print(\"KNN- Precision :\",KNN_pre)\n",
    "print(\"KNN- Recall    :\",KNN_rec)\n",
    "print(\"KNN- F1 Score  :\",KNN_F1)"
   ]
  },
  {
   "cell_type": "markdown",
   "metadata": {},
   "source": [
    "# # Comparing the Classification Models"
   ]
  },
  {
   "cell_type": "raw",
   "metadata": {},
   "source": [
    "1. Since the Target Label is observed to be Class Imbalance - hence model performance cannot be evaluated based on accuracy score alone\n",
    "2. Accuracy for all models are high lying between 0.87- 0.89. Dtree:0.87 and Logistic and KNN Model have high accuracy at 0.89\n",
    "3. Cosidering imbalance in the data F Score is another important measure in evaluating the Models. Comapring the F Score for models. \n",
    "    a. dTree   :0.46 \n",
    "    b. Logistic:0.30\n",
    "    c. KNN     :0.42\n",
    "F Score being critical evaluation matrix , hence deciding based on same dTree is better classicition model compared to KNN and Logistcs"
   ]
  },
  {
   "cell_type": "markdown",
   "metadata": {},
   "source": [
    "# Ensemle Technique for improving model performance"
   ]
  },
  {
   "cell_type": "markdown",
   "metadata": {},
   "source": [
    "# Ensemble Learning - Bagging "
   ]
  },
  {
   "cell_type": "code",
   "execution_count": 189,
   "metadata": {},
   "outputs": [
    {
     "name": "stdout",
     "output_type": "stream",
     "text": [
      "<class 'pandas.core.frame.DataFrame'>\n",
      "RangeIndex: 45211 entries, 0 to 45210\n",
      "Data columns (total 16 columns):\n",
      "age          45211 non-null int64\n",
      "job          45211 non-null category\n",
      "marital      45211 non-null category\n",
      "education    45211 non-null category\n",
      "default      45211 non-null category\n",
      "balance      45211 non-null int64\n",
      "housing      45211 non-null category\n",
      "loan         45211 non-null category\n",
      "contact      45211 non-null category\n",
      "day          45211 non-null int64\n",
      "month        45211 non-null category\n",
      "duration     45211 non-null int64\n",
      "campaign     45211 non-null int64\n",
      "pdays        45211 non-null int64\n",
      "previous     45211 non-null int64\n",
      "poutcome     45211 non-null category\n",
      "dtypes: category(9), int64(7)\n",
      "memory usage: 2.8 MB\n"
     ]
    }
   ],
   "source": [
    "X.info()"
   ]
  },
  {
   "cell_type": "code",
   "execution_count": 191,
   "metadata": {},
   "outputs": [],
   "source": [
    "#df_bank2=df_bank2.pop(\"Target\")            #For ensemble, we do not need training and test data separately. \n",
    "                                           # bagging can use out of bag records for testing        "
   ]
  },
  {
   "cell_type": "code",
   "execution_count": 306,
   "metadata": {},
   "outputs": [
    {
     "name": "stdout",
     "output_type": "stream",
     "text": [
      "0.900444582070735\n"
     ]
    }
   ],
   "source": [
    "#Model Names\n",
    "#1. Decision Tree=dTree\n",
    "from sklearn.ensemble import BaggingClassifier\n",
    "bgcl = BaggingClassifier(base_estimator=dTree,n_estimators=50, max_samples=.8 , oob_score=True)\n",
    "\n",
    "bgcl = bgcl.fit(df_bank2, y)\n",
    "print(bgcl.oob_score_)"
   ]
  },
  {
   "cell_type": "code",
   "execution_count": 355,
   "metadata": {},
   "outputs": [
    {
     "name": "stdout",
     "output_type": "stream",
     "text": [
      "confusion matrix = \n",
      " [[11652   301]\n",
      " [ 1605     6]] \n",
      "\n",
      "classification_report = \n",
      "               precision    recall  f1-score   support\n",
      "\n",
      "           0       0.88      0.97      0.92     11953\n",
      "           1       0.02      0.00      0.01      1611\n",
      "\n",
      "    accuracy                           0.86     13564\n",
      "   macro avg       0.45      0.49      0.47     13564\n",
      "weighted avg       0.78      0.86      0.82     13564\n",
      "\n"
     ]
    }
   ],
   "source": [
    "# Predit for test\n",
    "pred_test = bgcl.predict(X_test)\n",
    "\n",
    "from sklearn.metrics import classification_report,confusion_matrix\n",
    "mat_test = confusion_matrix(y_test,pred_test)\n",
    "print(\"confusion matrix = \\n\",mat_test,\"\\n\")\n",
    "mat_test = classification_report(y_test,pred_test)\n",
    "print(\"classification_report = \\n\",mat_test)"
   ]
  },
  {
   "cell_type": "code",
   "execution_count": 358,
   "metadata": {},
   "outputs": [
    {
     "name": "stderr",
     "output_type": "stream",
     "text": [
      "C:\\Users\\SRIKANT\\Anaconda3\\lib\\site-packages\\sklearn\\linear_model\\logistic.py:432: FutureWarning: Default solver will be changed to 'lbfgs' in 0.22. Specify a solver to silence this warning.\n",
      "  FutureWarning)\n",
      "C:\\Users\\SRIKANT\\Anaconda3\\lib\\site-packages\\sklearn\\linear_model\\logistic.py:432: FutureWarning: Default solver will be changed to 'lbfgs' in 0.22. Specify a solver to silence this warning.\n",
      "  FutureWarning)\n",
      "C:\\Users\\SRIKANT\\Anaconda3\\lib\\site-packages\\sklearn\\linear_model\\logistic.py:432: FutureWarning: Default solver will be changed to 'lbfgs' in 0.22. Specify a solver to silence this warning.\n",
      "  FutureWarning)\n",
      "C:\\Users\\SRIKANT\\Anaconda3\\lib\\site-packages\\sklearn\\linear_model\\logistic.py:432: FutureWarning: Default solver will be changed to 'lbfgs' in 0.22. Specify a solver to silence this warning.\n",
      "  FutureWarning)\n",
      "C:\\Users\\SRIKANT\\Anaconda3\\lib\\site-packages\\sklearn\\linear_model\\logistic.py:432: FutureWarning: Default solver will be changed to 'lbfgs' in 0.22. Specify a solver to silence this warning.\n",
      "  FutureWarning)\n",
      "C:\\Users\\SRIKANT\\Anaconda3\\lib\\site-packages\\sklearn\\linear_model\\logistic.py:432: FutureWarning: Default solver will be changed to 'lbfgs' in 0.22. Specify a solver to silence this warning.\n",
      "  FutureWarning)\n",
      "C:\\Users\\SRIKANT\\Anaconda3\\lib\\site-packages\\sklearn\\linear_model\\logistic.py:432: FutureWarning: Default solver will be changed to 'lbfgs' in 0.22. Specify a solver to silence this warning.\n",
      "  FutureWarning)\n",
      "C:\\Users\\SRIKANT\\Anaconda3\\lib\\site-packages\\sklearn\\linear_model\\logistic.py:432: FutureWarning: Default solver will be changed to 'lbfgs' in 0.22. Specify a solver to silence this warning.\n",
      "  FutureWarning)\n",
      "C:\\Users\\SRIKANT\\Anaconda3\\lib\\site-packages\\sklearn\\linear_model\\logistic.py:432: FutureWarning: Default solver will be changed to 'lbfgs' in 0.22. Specify a solver to silence this warning.\n",
      "  FutureWarning)\n",
      "C:\\Users\\SRIKANT\\Anaconda3\\lib\\site-packages\\sklearn\\linear_model\\logistic.py:432: FutureWarning: Default solver will be changed to 'lbfgs' in 0.22. Specify a solver to silence this warning.\n",
      "  FutureWarning)\n",
      "C:\\Users\\SRIKANT\\Anaconda3\\lib\\site-packages\\sklearn\\linear_model\\logistic.py:432: FutureWarning: Default solver will be changed to 'lbfgs' in 0.22. Specify a solver to silence this warning.\n",
      "  FutureWarning)\n",
      "C:\\Users\\SRIKANT\\Anaconda3\\lib\\site-packages\\sklearn\\linear_model\\logistic.py:432: FutureWarning: Default solver will be changed to 'lbfgs' in 0.22. Specify a solver to silence this warning.\n",
      "  FutureWarning)\n",
      "C:\\Users\\SRIKANT\\Anaconda3\\lib\\site-packages\\sklearn\\linear_model\\logistic.py:432: FutureWarning: Default solver will be changed to 'lbfgs' in 0.22. Specify a solver to silence this warning.\n",
      "  FutureWarning)\n",
      "C:\\Users\\SRIKANT\\Anaconda3\\lib\\site-packages\\sklearn\\linear_model\\logistic.py:432: FutureWarning: Default solver will be changed to 'lbfgs' in 0.22. Specify a solver to silence this warning.\n",
      "  FutureWarning)\n",
      "C:\\Users\\SRIKANT\\Anaconda3\\lib\\site-packages\\sklearn\\linear_model\\logistic.py:432: FutureWarning: Default solver will be changed to 'lbfgs' in 0.22. Specify a solver to silence this warning.\n",
      "  FutureWarning)\n",
      "C:\\Users\\SRIKANT\\Anaconda3\\lib\\site-packages\\sklearn\\linear_model\\logistic.py:432: FutureWarning: Default solver will be changed to 'lbfgs' in 0.22. Specify a solver to silence this warning.\n",
      "  FutureWarning)\n",
      "C:\\Users\\SRIKANT\\Anaconda3\\lib\\site-packages\\sklearn\\linear_model\\logistic.py:432: FutureWarning: Default solver will be changed to 'lbfgs' in 0.22. Specify a solver to silence this warning.\n",
      "  FutureWarning)\n",
      "C:\\Users\\SRIKANT\\Anaconda3\\lib\\site-packages\\sklearn\\linear_model\\logistic.py:432: FutureWarning: Default solver will be changed to 'lbfgs' in 0.22. Specify a solver to silence this warning.\n",
      "  FutureWarning)\n",
      "C:\\Users\\SRIKANT\\Anaconda3\\lib\\site-packages\\sklearn\\linear_model\\logistic.py:432: FutureWarning: Default solver will be changed to 'lbfgs' in 0.22. Specify a solver to silence this warning.\n",
      "  FutureWarning)\n",
      "C:\\Users\\SRIKANT\\Anaconda3\\lib\\site-packages\\sklearn\\linear_model\\logistic.py:432: FutureWarning: Default solver will be changed to 'lbfgs' in 0.22. Specify a solver to silence this warning.\n",
      "  FutureWarning)\n",
      "C:\\Users\\SRIKANT\\Anaconda3\\lib\\site-packages\\sklearn\\linear_model\\logistic.py:432: FutureWarning: Default solver will be changed to 'lbfgs' in 0.22. Specify a solver to silence this warning.\n",
      "  FutureWarning)\n",
      "C:\\Users\\SRIKANT\\Anaconda3\\lib\\site-packages\\sklearn\\linear_model\\logistic.py:432: FutureWarning: Default solver will be changed to 'lbfgs' in 0.22. Specify a solver to silence this warning.\n",
      "  FutureWarning)\n",
      "C:\\Users\\SRIKANT\\Anaconda3\\lib\\site-packages\\sklearn\\linear_model\\logistic.py:432: FutureWarning: Default solver will be changed to 'lbfgs' in 0.22. Specify a solver to silence this warning.\n",
      "  FutureWarning)\n",
      "C:\\Users\\SRIKANT\\Anaconda3\\lib\\site-packages\\sklearn\\linear_model\\logistic.py:432: FutureWarning: Default solver will be changed to 'lbfgs' in 0.22. Specify a solver to silence this warning.\n",
      "  FutureWarning)\n",
      "C:\\Users\\SRIKANT\\Anaconda3\\lib\\site-packages\\sklearn\\linear_model\\logistic.py:432: FutureWarning: Default solver will be changed to 'lbfgs' in 0.22. Specify a solver to silence this warning.\n",
      "  FutureWarning)\n",
      "C:\\Users\\SRIKANT\\Anaconda3\\lib\\site-packages\\sklearn\\linear_model\\logistic.py:432: FutureWarning: Default solver will be changed to 'lbfgs' in 0.22. Specify a solver to silence this warning.\n",
      "  FutureWarning)\n",
      "C:\\Users\\SRIKANT\\Anaconda3\\lib\\site-packages\\sklearn\\linear_model\\logistic.py:432: FutureWarning: Default solver will be changed to 'lbfgs' in 0.22. Specify a solver to silence this warning.\n",
      "  FutureWarning)\n",
      "C:\\Users\\SRIKANT\\Anaconda3\\lib\\site-packages\\sklearn\\linear_model\\logistic.py:432: FutureWarning: Default solver will be changed to 'lbfgs' in 0.22. Specify a solver to silence this warning.\n",
      "  FutureWarning)\n",
      "C:\\Users\\SRIKANT\\Anaconda3\\lib\\site-packages\\sklearn\\linear_model\\logistic.py:432: FutureWarning: Default solver will be changed to 'lbfgs' in 0.22. Specify a solver to silence this warning.\n",
      "  FutureWarning)\n",
      "C:\\Users\\SRIKANT\\Anaconda3\\lib\\site-packages\\sklearn\\linear_model\\logistic.py:432: FutureWarning: Default solver will be changed to 'lbfgs' in 0.22. Specify a solver to silence this warning.\n",
      "  FutureWarning)\n",
      "C:\\Users\\SRIKANT\\Anaconda3\\lib\\site-packages\\sklearn\\linear_model\\logistic.py:432: FutureWarning: Default solver will be changed to 'lbfgs' in 0.22. Specify a solver to silence this warning.\n",
      "  FutureWarning)\n",
      "C:\\Users\\SRIKANT\\Anaconda3\\lib\\site-packages\\sklearn\\linear_model\\logistic.py:432: FutureWarning: Default solver will be changed to 'lbfgs' in 0.22. Specify a solver to silence this warning.\n",
      "  FutureWarning)\n",
      "C:\\Users\\SRIKANT\\Anaconda3\\lib\\site-packages\\sklearn\\linear_model\\logistic.py:432: FutureWarning: Default solver will be changed to 'lbfgs' in 0.22. Specify a solver to silence this warning.\n",
      "  FutureWarning)\n",
      "C:\\Users\\SRIKANT\\Anaconda3\\lib\\site-packages\\sklearn\\linear_model\\logistic.py:432: FutureWarning: Default solver will be changed to 'lbfgs' in 0.22. Specify a solver to silence this warning.\n",
      "  FutureWarning)\n",
      "C:\\Users\\SRIKANT\\Anaconda3\\lib\\site-packages\\sklearn\\linear_model\\logistic.py:432: FutureWarning: Default solver will be changed to 'lbfgs' in 0.22. Specify a solver to silence this warning.\n",
      "  FutureWarning)\n",
      "C:\\Users\\SRIKANT\\Anaconda3\\lib\\site-packages\\sklearn\\linear_model\\logistic.py:432: FutureWarning: Default solver will be changed to 'lbfgs' in 0.22. Specify a solver to silence this warning.\n",
      "  FutureWarning)\n",
      "C:\\Users\\SRIKANT\\Anaconda3\\lib\\site-packages\\sklearn\\linear_model\\logistic.py:432: FutureWarning: Default solver will be changed to 'lbfgs' in 0.22. Specify a solver to silence this warning.\n",
      "  FutureWarning)\n",
      "C:\\Users\\SRIKANT\\Anaconda3\\lib\\site-packages\\sklearn\\linear_model\\logistic.py:432: FutureWarning: Default solver will be changed to 'lbfgs' in 0.22. Specify a solver to silence this warning.\n",
      "  FutureWarning)\n",
      "C:\\Users\\SRIKANT\\Anaconda3\\lib\\site-packages\\sklearn\\linear_model\\logistic.py:432: FutureWarning: Default solver will be changed to 'lbfgs' in 0.22. Specify a solver to silence this warning.\n",
      "  FutureWarning)\n",
      "C:\\Users\\SRIKANT\\Anaconda3\\lib\\site-packages\\sklearn\\linear_model\\logistic.py:432: FutureWarning: Default solver will be changed to 'lbfgs' in 0.22. Specify a solver to silence this warning.\n",
      "  FutureWarning)\n"
     ]
    },
    {
     "name": "stderr",
     "output_type": "stream",
     "text": [
      "C:\\Users\\SRIKANT\\Anaconda3\\lib\\site-packages\\sklearn\\linear_model\\logistic.py:432: FutureWarning: Default solver will be changed to 'lbfgs' in 0.22. Specify a solver to silence this warning.\n",
      "  FutureWarning)\n",
      "C:\\Users\\SRIKANT\\Anaconda3\\lib\\site-packages\\sklearn\\linear_model\\logistic.py:432: FutureWarning: Default solver will be changed to 'lbfgs' in 0.22. Specify a solver to silence this warning.\n",
      "  FutureWarning)\n",
      "C:\\Users\\SRIKANT\\Anaconda3\\lib\\site-packages\\sklearn\\linear_model\\logistic.py:432: FutureWarning: Default solver will be changed to 'lbfgs' in 0.22. Specify a solver to silence this warning.\n",
      "  FutureWarning)\n",
      "C:\\Users\\SRIKANT\\Anaconda3\\lib\\site-packages\\sklearn\\linear_model\\logistic.py:432: FutureWarning: Default solver will be changed to 'lbfgs' in 0.22. Specify a solver to silence this warning.\n",
      "  FutureWarning)\n",
      "C:\\Users\\SRIKANT\\Anaconda3\\lib\\site-packages\\sklearn\\linear_model\\logistic.py:432: FutureWarning: Default solver will be changed to 'lbfgs' in 0.22. Specify a solver to silence this warning.\n",
      "  FutureWarning)\n",
      "C:\\Users\\SRIKANT\\Anaconda3\\lib\\site-packages\\sklearn\\linear_model\\logistic.py:432: FutureWarning: Default solver will be changed to 'lbfgs' in 0.22. Specify a solver to silence this warning.\n",
      "  FutureWarning)\n",
      "C:\\Users\\SRIKANT\\Anaconda3\\lib\\site-packages\\sklearn\\linear_model\\logistic.py:432: FutureWarning: Default solver will be changed to 'lbfgs' in 0.22. Specify a solver to silence this warning.\n",
      "  FutureWarning)\n",
      "C:\\Users\\SRIKANT\\Anaconda3\\lib\\site-packages\\sklearn\\linear_model\\logistic.py:432: FutureWarning: Default solver will be changed to 'lbfgs' in 0.22. Specify a solver to silence this warning.\n",
      "  FutureWarning)\n",
      "C:\\Users\\SRIKANT\\Anaconda3\\lib\\site-packages\\sklearn\\linear_model\\logistic.py:432: FutureWarning: Default solver will be changed to 'lbfgs' in 0.22. Specify a solver to silence this warning.\n",
      "  FutureWarning)\n",
      "C:\\Users\\SRIKANT\\Anaconda3\\lib\\site-packages\\sklearn\\linear_model\\logistic.py:432: FutureWarning: Default solver will be changed to 'lbfgs' in 0.22. Specify a solver to silence this warning.\n",
      "  FutureWarning)\n"
     ]
    },
    {
     "name": "stdout",
     "output_type": "stream",
     "text": [
      "0.8906460817057795\n"
     ]
    }
   ],
   "source": [
    "#2. Bagging with Logistic Regression\n",
    "from sklearn.ensemble import BaggingClassifier\n",
    "bgcl2 = BaggingClassifier(base_estimator=LogisticRegression(),n_estimators=50, max_samples=.8 , oob_score=True)\n",
    "\n",
    "bgcl2 = bgcl2.fit(df_bank2, y)\n",
    "print(bgcl2.oob_score_)"
   ]
  },
  {
   "cell_type": "code",
   "execution_count": 359,
   "metadata": {},
   "outputs": [
    {
     "name": "stdout",
     "output_type": "stream",
     "text": [
      "confusion matrix = \n",
      " [[11755   198]\n",
      " [ 1276   335]] \n",
      "\n",
      "classification_report = \n",
      "               precision    recall  f1-score   support\n",
      "\n",
      "           0       0.90      0.98      0.94     11953\n",
      "           1       0.63      0.21      0.31      1611\n",
      "\n",
      "    accuracy                           0.89     13564\n",
      "   macro avg       0.77      0.60      0.63     13564\n",
      "weighted avg       0.87      0.89      0.87     13564\n",
      "\n"
     ]
    }
   ],
   "source": [
    "# Predit for test\n",
    "pred_test = bgcl2.predict(X_test)\n",
    "\n",
    "from sklearn.metrics import classification_report,confusion_matrix\n",
    "mat_test = confusion_matrix(y_test,pred_test)\n",
    "print(\"confusion matrix = \\n\",mat_test,\"\\n\")\n",
    "mat_test = classification_report(y_test,pred_test)\n",
    "print(\"classification_report = \\n\",mat_test)"
   ]
  },
  {
   "cell_type": "code",
   "execution_count": 362,
   "metadata": {},
   "outputs": [
    {
     "name": "stdout",
     "output_type": "stream",
     "text": [
      "0.8929906438698547\n"
     ]
    },
    {
     "name": "stderr",
     "output_type": "stream",
     "text": [
      "C:\\Users\\SRIKANT\\Anaconda3\\lib\\site-packages\\sklearn\\ensemble\\bagging.py:611: UserWarning: Some inputs do not have OOB scores. This probably means too few estimators were used to compute any reliable oob estimates.\n",
      "  warn(\"Some inputs do not have OOB scores. \"\n",
      "C:\\Users\\SRIKANT\\Anaconda3\\lib\\site-packages\\sklearn\\ensemble\\bagging.py:616: RuntimeWarning: invalid value encountered in true_divide\n",
      "  predictions.sum(axis=1)[:, np.newaxis])\n"
     ]
    }
   ],
   "source": [
    "#3. Bagging with KNN Classfiers\n",
    "from sklearn.ensemble import BaggingClassifier\n",
    "bgcl3 = BaggingClassifier(base_estimator=KNeighborsClassifier(),n_estimators=15, max_samples=.8 , oob_score=True)\n",
    "\n",
    "bgcl3 = bgcl3.fit(XScaled, y)\n",
    "print(bgcl3.oob_score_)"
   ]
  },
  {
   "cell_type": "code",
   "execution_count": 363,
   "metadata": {},
   "outputs": [
    {
     "name": "stdout",
     "output_type": "stream",
     "text": [
      "confusion matrix = \n",
      " [[11747   237]\n",
      " [  900   680]] \n",
      "\n",
      "classification_report = \n",
      "               precision    recall  f1-score   support\n",
      "\n",
      "           0       0.93      0.98      0.95     11984\n",
      "           1       0.74      0.43      0.54      1580\n",
      "\n",
      "    accuracy                           0.92     13564\n",
      "   macro avg       0.84      0.71      0.75     13564\n",
      "weighted avg       0.91      0.92      0.91     13564\n",
      "\n"
     ]
    }
   ],
   "source": [
    "# Predit for test\n",
    "pred_test = bgcl3.predict(X_KNNtest)\n",
    "\n",
    "from sklearn.metrics import classification_report,confusion_matrix\n",
    "mat_test = confusion_matrix(Y_KNNtest,pred_test)\n",
    "print(\"confusion matrix = \\n\",mat_test,\"\\n\")\n",
    "mat_test = classification_report(Y_KNNtest,pred_test)\n",
    "print(\"classification_report = \\n\",mat_test)"
   ]
  },
  {
   "cell_type": "code",
   "execution_count": 302,
   "metadata": {},
   "outputs": [
    {
     "name": "stdout",
     "output_type": "stream",
     "text": [
      "0.8871734754816306\n"
     ]
    }
   ],
   "source": [
    "# testing bagging classifier - dTree without duration column\n",
    "from sklearn.ensemble import BaggingClassifier\n",
    "bgcl_D4 = BaggingClassifier(base_estimator=dTree,n_estimators=50, max_samples=.8 , oob_score=True)\n",
    "\n",
    "bgcl_D4 = bgcl_D4.fit(df_bank4, y_D4)\n",
    "print(bgcl_D4.oob_score_)"
   ]
  },
  {
   "cell_type": "markdown",
   "metadata": {},
   "source": [
    "# Ensemble Learning - AdaBoost"
   ]
  },
  {
   "cell_type": "code",
   "execution_count": 310,
   "metadata": {},
   "outputs": [],
   "source": [
    "from sklearn.ensemble import AdaBoostClassifier\n",
    "abcl = AdaBoostClassifier(base_estimator=dTree, n_estimators=50)\n",
    "#abcl = AdaBoostClassifier(n_estimators=50)\n",
    "abcl = abcl.fit(X_train, y_train)"
   ]
  },
  {
   "cell_type": "code",
   "execution_count": 305,
   "metadata": {},
   "outputs": [
    {
     "data": {
      "text/plain": [
       "0.873267472721911"
      ]
     },
     "execution_count": 305,
     "metadata": {},
     "output_type": "execute_result"
    }
   ],
   "source": [
    "test_pred_Ada = abcl.predict(X_test)\n",
    "abcl.score(X_test , y_test)"
   ]
  },
  {
   "cell_type": "code",
   "execution_count": 354,
   "metadata": {},
   "outputs": [
    {
     "name": "stdout",
     "output_type": "stream",
     "text": [
      "confusion matrix = \n",
      " [[11072   881]\n",
      " [  841   770]] \n",
      "\n",
      "classification_report = \n",
      "               precision    recall  f1-score   support\n",
      "\n",
      "           0       0.93      0.93      0.93     11953\n",
      "           1       0.47      0.48      0.47      1611\n",
      "\n",
      "    accuracy                           0.87     13564\n",
      "   macro avg       0.70      0.70      0.70     13564\n",
      "weighted avg       0.87      0.87      0.87     13564\n",
      "\n"
     ]
    }
   ],
   "source": [
    "# Predit for test\n",
    "pred_test = abcl.predict(X_test)\n",
    "\n",
    "from sklearn.metrics import classification_report,confusion_matrix\n",
    "mat_test = confusion_matrix(y_test,pred_test)\n",
    "print(\"confusion matrix = \\n\",mat_test,\"\\n\")\n",
    "mat_test = classification_report(y_test,pred_test)\n",
    "print(\"classification_report = \\n\",mat_test)"
   ]
  },
  {
   "cell_type": "markdown",
   "metadata": {},
   "source": [
    "# Ensemble Learning - Gradient Boost"
   ]
  },
  {
   "cell_type": "code",
   "execution_count": 311,
   "metadata": {},
   "outputs": [],
   "source": [
    "from sklearn.ensemble import GradientBoostingClassifier\n",
    "gbcl = GradientBoostingClassifier(n_estimators = 50, learning_rate = 0.09, max_depth=5)\n",
    "gbcl = gbcl.fit(X_train, y_train)"
   ]
  },
  {
   "cell_type": "code",
   "execution_count": 312,
   "metadata": {},
   "outputs": [
    {
     "data": {
      "text/plain": [
       "0.904452963727514"
      ]
     },
     "execution_count": 312,
     "metadata": {},
     "output_type": "execute_result"
    }
   ],
   "source": [
    "test_pred = gbcl.predict(X_test)\n",
    "gbcl.score(X_test , y_test)"
   ]
  },
  {
   "cell_type": "code",
   "execution_count": 353,
   "metadata": {},
   "outputs": [
    {
     "name": "stdout",
     "output_type": "stream",
     "text": [
      "confusion matrix = \n",
      " [[11628   325]\n",
      " [  971   640]] \n",
      "\n",
      "classification_report = \n",
      "               precision    recall  f1-score   support\n",
      "\n",
      "           0       0.92      0.97      0.95     11953\n",
      "           1       0.66      0.40      0.50      1611\n",
      "\n",
      "    accuracy                           0.90     13564\n",
      "   macro avg       0.79      0.69      0.72     13564\n",
      "weighted avg       0.89      0.90      0.89     13564\n",
      "\n"
     ]
    }
   ],
   "source": [
    "# Predit for test\n",
    "pred_test = gbcl.predict(X_test)\n",
    "\n",
    "from sklearn.metrics import classification_report,confusion_matrix\n",
    "mat_test = confusion_matrix(y_test,pred_test)\n",
    "print(\"confusion matrix = \\n\",mat_test,\"\\n\")\n",
    "mat_test = classification_report(y_test,pred_test)\n",
    "print(\"classification_report = \\n\",mat_test)"
   ]
  },
  {
   "cell_type": "markdown",
   "metadata": {},
   "source": [
    "# Ensemble Learning - Random Forest"
   ]
  },
  {
   "cell_type": "code",
   "execution_count": 313,
   "metadata": {},
   "outputs": [],
   "source": [
    "from sklearn.ensemble import RandomForestClassifier\n",
    "rfcl = RandomForestClassifier(n_estimators = 6)\n",
    "rfcl = rfcl.fit(X_train, y_train)"
   ]
  },
  {
   "cell_type": "code",
   "execution_count": 314,
   "metadata": {},
   "outputs": [
    {
     "data": {
      "text/plain": [
       "0.8937629017988794"
      ]
     },
     "execution_count": 314,
     "metadata": {},
     "output_type": "execute_result"
    }
   ],
   "source": [
    "test_pred = rfcl.predict(X_test)\n",
    "rfcl.score(X_test , y_test)"
   ]
  },
  {
   "cell_type": "code",
   "execution_count": 352,
   "metadata": {},
   "outputs": [
    {
     "name": "stdout",
     "output_type": "stream",
     "text": [
      "confusion matrix = \n",
      " [[11631   322]\n",
      " [ 1119   492]] \n",
      "\n",
      "classification_report = \n",
      "               precision    recall  f1-score   support\n",
      "\n",
      "           0       0.91      0.97      0.94     11953\n",
      "           1       0.60      0.31      0.41      1611\n",
      "\n",
      "    accuracy                           0.89     13564\n",
      "   macro avg       0.76      0.64      0.67     13564\n",
      "weighted avg       0.88      0.89      0.88     13564\n",
      "\n"
     ]
    }
   ],
   "source": [
    "# Predit for test\n",
    "pred_test = rfcl.predict(X_test)\n",
    "\n",
    "from sklearn.metrics import classification_report,confusion_matrix\n",
    "mat_test = confusion_matrix(y_test,pred_test)\n",
    "print(\"confusion matrix = \\n\",mat_test,\"\\n\")\n",
    "mat_test = classification_report(y_test,pred_test)\n",
    "print(\"classification_report = \\n\",mat_test)"
   ]
  },
  {
   "cell_type": "markdown",
   "metadata": {},
   "source": [
    "# Ensemble Techniques Performance and comparison with individual model"
   ]
  },
  {
   "cell_type": "raw",
   "metadata": {},
   "source": [
    "1. Ensemble techniques - helped to improve the model performance and improve clasiification and predictability.\n",
    "\n",
    "2. Comparing model performance score for different ensemble methods - Bagging with KNNClassifier performed well and scores for all evaluation matrix were better compared to other Ensemble methods as enumerated above.\n",
    "\n",
    "3. As indicated above among idividual model KNN has performed well among critical evaluation matrix F1 and hence the chosen model for this study.\n",
    "\n",
    "4. On performing  Ensemble using different classifiers again Bagging with KNN performed better in comparison with other.The intrinsic performnce of KNN is being further boosted by Ensemble. Hence performing Individual Model Buiding before Ensemble could be an important step to understand how Ensemble would behave during model performance boosting, else Ensemble could be a balck box and one may not undertand the reason for model performance. \n",
    "\n",
    "5. Comparing Ensemble Bagging - KNN vs Only KNNClassifer\n",
    "    a.Bagging technique has helped further improve the model peformance for the KNNClassifiers\n",
    "    b.Model scores for Accuracy, Precision, Recall and F1 all have improved and hence improving the model performnce"
   ]
  }
 ],
 "metadata": {
  "kernelspec": {
   "display_name": "Python 3",
   "language": "python",
   "name": "python3"
  },
  "language_info": {
   "codemirror_mode": {
    "name": "ipython",
    "version": 3
   },
   "file_extension": ".py",
   "mimetype": "text/x-python",
   "name": "python",
   "nbconvert_exporter": "python",
   "pygments_lexer": "ipython3",
   "version": "3.7.4"
  }
 },
 "nbformat": 4,
 "nbformat_minor": 2
}
